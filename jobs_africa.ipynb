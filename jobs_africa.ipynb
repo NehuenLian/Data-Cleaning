{
 "cells": [
  {
   "cell_type": "markdown",
   "metadata": {},
   "source": [
    "# Data cleaning practice: Africa LinkedIn Jobs"
   ]
  },
  {
   "cell_type": "code",
   "execution_count": 1,
   "metadata": {},
   "outputs": [],
   "source": [
    "import pandas as pd\n",
    "import matplotlib.pyplot as plt\n",
    "import numpy as np\n",
    "import folium\n",
    "import seaborn as sns\n",
    "import plotly\n",
    "import random"
   ]
  },
  {
   "cell_type": "code",
   "execution_count": 2,
   "metadata": {},
   "outputs": [],
   "source": [
    "data = 'linkedin-jobs-africa.csv'\n",
    "\n",
    "df = pd.read_csv(data)"
   ]
  },
  {
   "cell_type": "code",
   "execution_count": 3,
   "metadata": {},
   "outputs": [
    {
     "data": {
      "text/plain": [
       "(2872, 9)"
      ]
     },
     "execution_count": 3,
     "metadata": {},
     "output_type": "execute_result"
    }
   ],
   "source": [
    "df.shape"
   ]
  },
  {
   "cell_type": "code",
   "execution_count": 4,
   "metadata": {},
   "outputs": [
    {
     "data": {
      "text/plain": [
       "Index(['title', 'company', 'description', 'onsite_remote', 'salary',\n",
       "       'location', 'criteria', 'posted_date', 'link'],\n",
       "      dtype='object')"
      ]
     },
     "execution_count": 4,
     "metadata": {},
     "output_type": "execute_result"
    }
   ],
   "source": [
    "df.columns"
   ]
  },
  {
   "cell_type": "code",
   "execution_count": 5,
   "metadata": {},
   "outputs": [
    {
     "data": {
      "text/plain": [
       "title             object\n",
       "company           object\n",
       "description       object\n",
       "onsite_remote     object\n",
       "salary           float64\n",
       "location          object\n",
       "criteria          object\n",
       "posted_date       object\n",
       "link              object\n",
       "dtype: object"
      ]
     },
     "execution_count": 5,
     "metadata": {},
     "output_type": "execute_result"
    }
   ],
   "source": [
    "df.dtypes"
   ]
  },
  {
   "cell_type": "code",
   "execution_count": 6,
   "metadata": {},
   "outputs": [
    {
     "data": {
      "text/html": [
       "<div>\n",
       "<style scoped>\n",
       "    .dataframe tbody tr th:only-of-type {\n",
       "        vertical-align: middle;\n",
       "    }\n",
       "\n",
       "    .dataframe tbody tr th {\n",
       "        vertical-align: top;\n",
       "    }\n",
       "\n",
       "    .dataframe thead th {\n",
       "        text-align: right;\n",
       "    }\n",
       "</style>\n",
       "<table border=\"1\" class=\"dataframe\">\n",
       "  <thead>\n",
       "    <tr style=\"text-align: right;\">\n",
       "      <th></th>\n",
       "      <th>title</th>\n",
       "      <th>company</th>\n",
       "      <th>description</th>\n",
       "      <th>onsite_remote</th>\n",
       "      <th>salary</th>\n",
       "      <th>location</th>\n",
       "      <th>criteria</th>\n",
       "      <th>posted_date</th>\n",
       "      <th>link</th>\n",
       "    </tr>\n",
       "  </thead>\n",
       "  <tbody>\n",
       "    <tr>\n",
       "      <th>0</th>\n",
       "      <td>Data Analyst</td>\n",
       "      <td>NNC</td>\n",
       "      <td>We are looking for a passionate certified Data...</td>\n",
       "      <td>onsite</td>\n",
       "      <td>NaN</td>\n",
       "      <td>Cairo, Cairo, Egypt</td>\n",
       "      <td>[{'مستوى الأقدمية': 'غير مطبق'}, {'نوع التوظيف...</td>\n",
       "      <td>2022-11-18</td>\n",
       "      <td>https://eg.linkedin.com/jobs/view/data-analyst...</td>\n",
       "    </tr>\n",
       "    <tr>\n",
       "      <th>1</th>\n",
       "      <td>Data Analyst</td>\n",
       "      <td>Watu Credit</td>\n",
       "      <td>WATU is a focus-driven, customer-centric compa...</td>\n",
       "      <td>onsite</td>\n",
       "      <td>NaN</td>\n",
       "      <td>Nairobi County, Kenya</td>\n",
       "      <td>[{'Seniority level': 'Associate'}, {'Employmen...</td>\n",
       "      <td>2022-11-01</td>\n",
       "      <td>https://ke.linkedin.com/jobs/view/data-analyst...</td>\n",
       "    </tr>\n",
       "    <tr>\n",
       "      <th>2</th>\n",
       "      <td>Data Analyst (Credit Risk)</td>\n",
       "      <td>Kuda</td>\n",
       "      <td>Kuda is a fintech on a mission to make financi...</td>\n",
       "      <td>onsite</td>\n",
       "      <td>NaN</td>\n",
       "      <td>Cape Town, Western Cape, South Africa</td>\n",
       "      <td>[{'Seniority level': 'Not Applicable'}, {'Empl...</td>\n",
       "      <td>2022-11-21</td>\n",
       "      <td>https://za.linkedin.com/jobs/view/data-analyst...</td>\n",
       "    </tr>\n",
       "    <tr>\n",
       "      <th>3</th>\n",
       "      <td>Data Analyst</td>\n",
       "      <td>Watu Credit</td>\n",
       "      <td>Role: Data AnalystReporting to: Data Analytics...</td>\n",
       "      <td>onsite</td>\n",
       "      <td>NaN</td>\n",
       "      <td>Nairobi, Nairobi County, Kenya</td>\n",
       "      <td>[{'Seniority level': 'Mid-Senior level'}, {'Em...</td>\n",
       "      <td>2022-11-01</td>\n",
       "      <td>https://ke.linkedin.com/jobs/view/data-analyst...</td>\n",
       "    </tr>\n",
       "    <tr>\n",
       "      <th>4</th>\n",
       "      <td>Data Analyst</td>\n",
       "      <td>Tata Consultancy Services</td>\n",
       "      <td>About Tata Consultancy ServicesTata Consultanc...</td>\n",
       "      <td>onsite</td>\n",
       "      <td>NaN</td>\n",
       "      <td>City of Johannesburg, Gauteng, South Africa</td>\n",
       "      <td>[{'Seniority level': 'Mid-Senior level'}, {'Em...</td>\n",
       "      <td>2022-10-27</td>\n",
       "      <td>https://za.linkedin.com/jobs/view/data-analyst...</td>\n",
       "    </tr>\n",
       "  </tbody>\n",
       "</table>\n",
       "</div>"
      ],
      "text/plain": [
       "                        title                    company  \\\n",
       "0                Data Analyst                        NNC   \n",
       "1                Data Analyst                Watu Credit   \n",
       "2  Data Analyst (Credit Risk)                       Kuda   \n",
       "3                Data Analyst                Watu Credit   \n",
       "4                Data Analyst  Tata Consultancy Services   \n",
       "\n",
       "                                         description onsite_remote  salary  \\\n",
       "0  We are looking for a passionate certified Data...        onsite     NaN   \n",
       "1  WATU is a focus-driven, customer-centric compa...        onsite     NaN   \n",
       "2  Kuda is a fintech on a mission to make financi...        onsite     NaN   \n",
       "3  Role: Data AnalystReporting to: Data Analytics...        onsite     NaN   \n",
       "4  About Tata Consultancy ServicesTata Consultanc...        onsite     NaN   \n",
       "\n",
       "                                      location  \\\n",
       "0                          Cairo, Cairo, Egypt   \n",
       "1                        Nairobi County, Kenya   \n",
       "2        Cape Town, Western Cape, South Africa   \n",
       "3               Nairobi, Nairobi County, Kenya   \n",
       "4  City of Johannesburg, Gauteng, South Africa   \n",
       "\n",
       "                                            criteria posted_date  \\\n",
       "0  [{'مستوى الأقدمية': 'غير مطبق'}, {'نوع التوظيف...  2022-11-18   \n",
       "1  [{'Seniority level': 'Associate'}, {'Employmen...  2022-11-01   \n",
       "2  [{'Seniority level': 'Not Applicable'}, {'Empl...  2022-11-21   \n",
       "3  [{'Seniority level': 'Mid-Senior level'}, {'Em...  2022-11-01   \n",
       "4  [{'Seniority level': 'Mid-Senior level'}, {'Em...  2022-10-27   \n",
       "\n",
       "                                                link  \n",
       "0  https://eg.linkedin.com/jobs/view/data-analyst...  \n",
       "1  https://ke.linkedin.com/jobs/view/data-analyst...  \n",
       "2  https://za.linkedin.com/jobs/view/data-analyst...  \n",
       "3  https://ke.linkedin.com/jobs/view/data-analyst...  \n",
       "4  https://za.linkedin.com/jobs/view/data-analyst...  "
      ]
     },
     "execution_count": 6,
     "metadata": {},
     "output_type": "execute_result"
    }
   ],
   "source": [
    "df.head()"
   ]
  },
  {
   "cell_type": "markdown",
   "metadata": {},
   "source": [
    "## Grouping job positions by profession\n",
    "\n",
    "These will be grouped in 4 professions\n",
    "* Data Analyst\n",
    "* Data Engineer\n",
    "* Data Scientist\n",
    "* Business Intelligence Analyst"
   ]
  },
  {
   "cell_type": "code",
   "execution_count": 7,
   "metadata": {},
   "outputs": [
    {
     "data": {
      "text/plain": [
       "array(['Data Analyst', 'Data Analyst (Credit Risk)',\n",
       "       'Data Analyst - Junior', 'Junior Data Analyst',\n",
       "       'Data Analyst Graduate', 'Data analyst / SQL Developer',\n",
       "       'Group Data Analyst', 'Junior Data Engineer', 'Data Engineer',\n",
       "       'Hubspot Data Analyst', 'Business Data Analyst',\n",
       "       'Data Analyst JHB', 'CV Data Engineer - CDA',\n",
       "       'Supply Chain Data MGT Analyst, AMET (Short-term)',\n",
       "       'Data Analyst At IITA (Tamale)', 'Data Engineer at Youverify',\n",
       "       'Market Data Analyst', 'Regional Data Analyst',\n",
       "       'People Data Analyst at SA Taxi Development Finance',\n",
       "       'Data Analyst at Datonomy Solutions', 'Specialist: Data Analytics',\n",
       "       'Data Analyst (JHB)', 'Data Analyst H.F',\n",
       "       'Data Engineer Intern - Machine learning', 'Analytics Specialist',\n",
       "       'Insight Analyst / Data Analyst', 'BI Analyst',\n",
       "       'Data Quality Analyst', 'BI Specialist At Vodafone Ghana',\n",
       "       'Analyst, Data Science', 'Data Engineer/',\n",
       "       'Business Intelligence Consultant', 'Senior Data Analyst',\n",
       "       'Data Analyst (Fraud Division)', 'DATA ANALYST',\n",
       "       'Junior / Graduate Data Engineer', 'Data Analyst (Global Remote)',\n",
       "       'Data Analyst, Forward Kitchens (Remote) - $60,000/year USD',\n",
       "       'BI Data Analyst (Contract)', 'Python Data Analyst (Remote)',\n",
       "       'People Data Analyst', 'Reference Data Analyst',\n",
       "       'Data Analyst, Trilogy (Remote) - $60,000/year USD',\n",
       "       'IDM Data Analyst', 'Data Engineer (Remote)',\n",
       "       'Remote Data Analyst Jobs',\n",
       "       'International consultant - Data analysis and Monitoring, Mogadishu, Somalia, 6 months [home based]',\n",
       "       'Global Business Data Analyst',\n",
       "       'Clinical Data Analyst (FSP), South Africa', 'BI Researcher',\n",
       "       'Data Engineer (REMOTE)', 'Remote Data Analyst/Engineer Jobs',\n",
       "       'Data Engineer (Contract)', 'Data Customer Analyst',\n",
       "       'Commercial Data Analyst', 'Reporting and Data Analyst',\n",
       "       'Data Analyst/Developer', 'Forensics Data Analyst',\n",
       "       'Data Intelligence Analyst', 'Data Analyst (Power BI & Python/R)',\n",
       "       'Data Analyst (H/F)', 'Data Analysis and Data Expert',\n",
       "       'Web Data Analyst', 'ETL and Data Quality Analyst',\n",
       "       'Data Entry and Research Analyst', 'HR Data Analyst',\n",
       "       'Finance Data Analyst',\n",
       "       'Merchandise Data Analyst (Fashion Retail)', 'Insights Analyst',\n",
       "       'BI Data Analyst'], dtype=object)"
      ]
     },
     "execution_count": 7,
     "metadata": {},
     "output_type": "execute_result"
    }
   ],
   "source": [
    "#See the unique values of the job positons. Later, will be grouped manually\n",
    "df['title'].unique()"
   ]
  },
  {
   "cell_type": "code",
   "execution_count": 8,
   "metadata": {},
   "outputs": [],
   "source": [
    "#Grouping with replace() to 'Data Analyst'\n",
    "\n",
    "df['title'].replace([\n",
    "    'Data Analyst (Credit Risk)',\n",
    "    'Data Analyst - Junior',\n",
    "    'Analytics Specialist',\n",
    "    'Junior Data Analyst',\n",
    "    'Data Analyst Graduate', \n",
    "    'Data analyst / SQL Developer',\n",
    "    'Group Data Analyst',\n",
    "    'Hubspot Data Analyst', \n",
    "    'Business Data Analyst',\n",
    "    'Data Analyst JHB',\n",
    "    'Supply Chain Data MGT Analyst, AMET (Short-term)',\n",
    "    'Data Analyst At IITA (Tamale)',\n",
    "    'Market Data Analyst', \n",
    "    'Regional Data Analyst',\n",
    "    'People Data Analyst at SA Taxi Development Finance',\n",
    "    'Data Analyst at Datonomy Solutions', \n",
    "    'Specialist: Data Analytics',\n",
    "    'Data Analyst (JHB)', \n",
    "    'Data Analyst H.F',\n",
    "    'Insight Analyst / Data Analyst', \n",
    "    'BI Analyst',\n",
    "    'Data Quality Analyst', \n",
    "    'BI Specialist At Vodafone Ghana',\n",
    "    'Senior Data Analyst',\n",
    "    'Data Analyst (Fraud Division)', \n",
    "    'DATA ANALYST',\n",
    "    'Data Analyst (Global Remote)',\n",
    "    'Data Analyst, Forward Kitchens (Remote) - $60,000/year USD',\n",
    "    'Python Data Analyst (Remote)',\n",
    "    'People Data Analyst', 'Reference Data Analyst',\n",
    "    'Data Analyst, Trilogy (Remote) - $60,000/year USD',\n",
    "    'IDM Data Analyst',\n",
    "    'Remote Data Analyst Jobs',\n",
    "    'International consultant - Data analysis and Monitoring, Mogadishu, Somalia, 6 months [home based]',\n",
    "    'Global Business Data Analyst',\n",
    "    'Clinical Data Analyst (FSP), South Africa',\n",
    "    'Remote Data Analyst/Engineer Jobs',\n",
    "    'Data Customer Analyst',\n",
    "    'Commercial Data Analyst', \n",
    "    'Reporting and Data Analyst',\n",
    "    'Data Analyst/Developer', \n",
    "    'Forensics Data Analyst',\n",
    "    'Data Intelligence Analyst', \n",
    "    'Data Analyst (Power BI & Python/R)',\n",
    "    'Data Analyst (H/F)', \n",
    "    'Data Analysis and Data Expert',\n",
    "    'Web Data Analyst', \n",
    "    'ETL and Data Quality Analyst',\n",
    "    'Data Entry and Research Analyst', \n",
    "    'HR Data Analyst',\n",
    "    'Finance Data Analyst',\n",
    "    'Merchandise Data Analyst (Fashion Retail)', \n",
    "    'Insights Analyst'], \n",
    "    \n",
    "    'Data Analyst', inplace=True)"
   ]
  },
  {
   "cell_type": "code",
   "execution_count": 9,
   "metadata": {},
   "outputs": [],
   "source": [
    "#Grouping with replace to 'Data Engineer'\n",
    "\n",
    "df['title'].replace([\n",
    "    'Junior Data Engineer', \n",
    "    'Data Engineer',\n",
    "    'CV Data Engineer - CDA', \n",
    "    'Data Engineer at Youverify',\n",
    "    'Data Engineer Intern - Machine learning',\n",
    "    'Data Engineer/',\n",
    "    'Junior / Graduate Data Engineer',\n",
    "    'Data Engineer (Remote)',\n",
    "    'Data Engineer (REMOTE)', \n",
    "    'Data Engineer (Contract)'],\n",
    "  \n",
    "    'Data Engineer', inplace=True)"
   ]
  },
  {
   "cell_type": "code",
   "execution_count": 10,
   "metadata": {},
   "outputs": [],
   "source": [
    "#Grouping with replace() to 'Data Scientist'\n",
    "\n",
    "df['title'].replace(\n",
    "    'Analyst, Data Science', \n",
    "    \n",
    "    'Data Scientist', inplace=True)"
   ]
  },
  {
   "cell_type": "code",
   "execution_count": 11,
   "metadata": {},
   "outputs": [],
   "source": [
    "#Grouping with replace to 'Business Intelligence' (BI Analyst)\n",
    "\n",
    "df['title'].replace([\n",
    "    'Business Intelligence Consultant', \n",
    "    'BI Data Analyst (Contract)',\n",
    "    'BI Researcher',\n",
    "    'BI Data Analyst'],\n",
    "    \n",
    "    'Business Inteligence', inplace=True)"
   ]
  },
  {
   "cell_type": "code",
   "execution_count": 12,
   "metadata": {},
   "outputs": [
    {
     "name": "stdout",
     "output_type": "stream",
     "text": [
      "['Data Analyst' 'Data Engineer' 'Data Scientist' 'Business Inteligence']\n"
     ]
    }
   ],
   "source": [
    "#This is how it would look\n",
    "print(df['title'].unique())"
   ]
  },
  {
   "cell_type": "code",
   "execution_count": 13,
   "metadata": {},
   "outputs": [
    {
     "data": {
      "text/html": [
       "<div>\n",
       "<style scoped>\n",
       "    .dataframe tbody tr th:only-of-type {\n",
       "        vertical-align: middle;\n",
       "    }\n",
       "\n",
       "    .dataframe tbody tr th {\n",
       "        vertical-align: top;\n",
       "    }\n",
       "\n",
       "    .dataframe thead th {\n",
       "        text-align: right;\n",
       "    }\n",
       "</style>\n",
       "<table border=\"1\" class=\"dataframe\">\n",
       "  <thead>\n",
       "    <tr style=\"text-align: right;\">\n",
       "      <th></th>\n",
       "      <th>title</th>\n",
       "      <th>company</th>\n",
       "      <th>description</th>\n",
       "      <th>onsite_remote</th>\n",
       "      <th>salary</th>\n",
       "      <th>location</th>\n",
       "      <th>criteria</th>\n",
       "      <th>posted_date</th>\n",
       "      <th>link</th>\n",
       "    </tr>\n",
       "  </thead>\n",
       "  <tbody>\n",
       "    <tr>\n",
       "      <th>0</th>\n",
       "      <td>Data Analyst</td>\n",
       "      <td>NNC</td>\n",
       "      <td>We are looking for a passionate certified Data...</td>\n",
       "      <td>onsite</td>\n",
       "      <td>NaN</td>\n",
       "      <td>Cairo, Cairo, Egypt</td>\n",
       "      <td>[{'مستوى الأقدمية': 'غير مطبق'}, {'نوع التوظيف...</td>\n",
       "      <td>2022-11-18</td>\n",
       "      <td>https://eg.linkedin.com/jobs/view/data-analyst...</td>\n",
       "    </tr>\n",
       "    <tr>\n",
       "      <th>1</th>\n",
       "      <td>Data Analyst</td>\n",
       "      <td>Watu Credit</td>\n",
       "      <td>WATU is a focus-driven, customer-centric compa...</td>\n",
       "      <td>onsite</td>\n",
       "      <td>NaN</td>\n",
       "      <td>Nairobi County, Kenya</td>\n",
       "      <td>[{'Seniority level': 'Associate'}, {'Employmen...</td>\n",
       "      <td>2022-11-01</td>\n",
       "      <td>https://ke.linkedin.com/jobs/view/data-analyst...</td>\n",
       "    </tr>\n",
       "    <tr>\n",
       "      <th>2</th>\n",
       "      <td>Data Analyst</td>\n",
       "      <td>Kuda</td>\n",
       "      <td>Kuda is a fintech on a mission to make financi...</td>\n",
       "      <td>onsite</td>\n",
       "      <td>NaN</td>\n",
       "      <td>Cape Town, Western Cape, South Africa</td>\n",
       "      <td>[{'Seniority level': 'Not Applicable'}, {'Empl...</td>\n",
       "      <td>2022-11-21</td>\n",
       "      <td>https://za.linkedin.com/jobs/view/data-analyst...</td>\n",
       "    </tr>\n",
       "    <tr>\n",
       "      <th>3</th>\n",
       "      <td>Data Analyst</td>\n",
       "      <td>Watu Credit</td>\n",
       "      <td>Role: Data AnalystReporting to: Data Analytics...</td>\n",
       "      <td>onsite</td>\n",
       "      <td>NaN</td>\n",
       "      <td>Nairobi, Nairobi County, Kenya</td>\n",
       "      <td>[{'Seniority level': 'Mid-Senior level'}, {'Em...</td>\n",
       "      <td>2022-11-01</td>\n",
       "      <td>https://ke.linkedin.com/jobs/view/data-analyst...</td>\n",
       "    </tr>\n",
       "    <tr>\n",
       "      <th>4</th>\n",
       "      <td>Data Analyst</td>\n",
       "      <td>Tata Consultancy Services</td>\n",
       "      <td>About Tata Consultancy ServicesTata Consultanc...</td>\n",
       "      <td>onsite</td>\n",
       "      <td>NaN</td>\n",
       "      <td>City of Johannesburg, Gauteng, South Africa</td>\n",
       "      <td>[{'Seniority level': 'Mid-Senior level'}, {'Em...</td>\n",
       "      <td>2022-10-27</td>\n",
       "      <td>https://za.linkedin.com/jobs/view/data-analyst...</td>\n",
       "    </tr>\n",
       "  </tbody>\n",
       "</table>\n",
       "</div>"
      ],
      "text/plain": [
       "          title                    company  \\\n",
       "0  Data Analyst                        NNC   \n",
       "1  Data Analyst                Watu Credit   \n",
       "2  Data Analyst                       Kuda   \n",
       "3  Data Analyst                Watu Credit   \n",
       "4  Data Analyst  Tata Consultancy Services   \n",
       "\n",
       "                                         description onsite_remote  salary  \\\n",
       "0  We are looking for a passionate certified Data...        onsite     NaN   \n",
       "1  WATU is a focus-driven, customer-centric compa...        onsite     NaN   \n",
       "2  Kuda is a fintech on a mission to make financi...        onsite     NaN   \n",
       "3  Role: Data AnalystReporting to: Data Analytics...        onsite     NaN   \n",
       "4  About Tata Consultancy ServicesTata Consultanc...        onsite     NaN   \n",
       "\n",
       "                                      location  \\\n",
       "0                          Cairo, Cairo, Egypt   \n",
       "1                        Nairobi County, Kenya   \n",
       "2        Cape Town, Western Cape, South Africa   \n",
       "3               Nairobi, Nairobi County, Kenya   \n",
       "4  City of Johannesburg, Gauteng, South Africa   \n",
       "\n",
       "                                            criteria posted_date  \\\n",
       "0  [{'مستوى الأقدمية': 'غير مطبق'}, {'نوع التوظيف...  2022-11-18   \n",
       "1  [{'Seniority level': 'Associate'}, {'Employmen...  2022-11-01   \n",
       "2  [{'Seniority level': 'Not Applicable'}, {'Empl...  2022-11-21   \n",
       "3  [{'Seniority level': 'Mid-Senior level'}, {'Em...  2022-11-01   \n",
       "4  [{'Seniority level': 'Mid-Senior level'}, {'Em...  2022-10-27   \n",
       "\n",
       "                                                link  \n",
       "0  https://eg.linkedin.com/jobs/view/data-analyst...  \n",
       "1  https://ke.linkedin.com/jobs/view/data-analyst...  \n",
       "2  https://za.linkedin.com/jobs/view/data-analyst...  \n",
       "3  https://ke.linkedin.com/jobs/view/data-analyst...  \n",
       "4  https://za.linkedin.com/jobs/view/data-analyst...  "
      ]
     },
     "execution_count": 13,
     "metadata": {},
     "output_type": "execute_result"
    }
   ],
   "source": [
    "df.head()"
   ]
  },
  {
   "cell_type": "code",
   "execution_count": 14,
   "metadata": {},
   "outputs": [
    {
     "name": "stdout",
     "output_type": "stream",
     "text": [
      "[ True]\n"
     ]
    }
   ],
   "source": [
    "#Verify NaN values in the ['salary'] column. There are not NaN values\n",
    "nan_values = df['salary'].isna()\n",
    "print(nan_values.unique())"
   ]
  },
  {
   "cell_type": "code",
   "execution_count": 15,
   "metadata": {},
   "outputs": [],
   "source": [
    "#Delete not relevant columns\n",
    "df.drop(columns=['description', 'link', 'criteria'], inplace=True)"
   ]
  },
  {
   "cell_type": "code",
   "execution_count": 16,
   "metadata": {},
   "outputs": [
    {
     "data": {
      "text/html": [
       "<div>\n",
       "<style scoped>\n",
       "    .dataframe tbody tr th:only-of-type {\n",
       "        vertical-align: middle;\n",
       "    }\n",
       "\n",
       "    .dataframe tbody tr th {\n",
       "        vertical-align: top;\n",
       "    }\n",
       "\n",
       "    .dataframe thead th {\n",
       "        text-align: right;\n",
       "    }\n",
       "</style>\n",
       "<table border=\"1\" class=\"dataframe\">\n",
       "  <thead>\n",
       "    <tr style=\"text-align: right;\">\n",
       "      <th></th>\n",
       "      <th>title</th>\n",
       "      <th>company</th>\n",
       "      <th>onsite_remote</th>\n",
       "      <th>salary</th>\n",
       "      <th>location</th>\n",
       "      <th>posted_date</th>\n",
       "    </tr>\n",
       "  </thead>\n",
       "  <tbody>\n",
       "    <tr>\n",
       "      <th>0</th>\n",
       "      <td>Data Analyst</td>\n",
       "      <td>NNC</td>\n",
       "      <td>onsite</td>\n",
       "      <td>NaN</td>\n",
       "      <td>Cairo, Cairo, Egypt</td>\n",
       "      <td>2022-11-18</td>\n",
       "    </tr>\n",
       "    <tr>\n",
       "      <th>1</th>\n",
       "      <td>Data Analyst</td>\n",
       "      <td>Watu Credit</td>\n",
       "      <td>onsite</td>\n",
       "      <td>NaN</td>\n",
       "      <td>Nairobi County, Kenya</td>\n",
       "      <td>2022-11-01</td>\n",
       "    </tr>\n",
       "    <tr>\n",
       "      <th>2</th>\n",
       "      <td>Data Analyst</td>\n",
       "      <td>Kuda</td>\n",
       "      <td>onsite</td>\n",
       "      <td>NaN</td>\n",
       "      <td>Cape Town, Western Cape, South Africa</td>\n",
       "      <td>2022-11-21</td>\n",
       "    </tr>\n",
       "    <tr>\n",
       "      <th>3</th>\n",
       "      <td>Data Analyst</td>\n",
       "      <td>Watu Credit</td>\n",
       "      <td>onsite</td>\n",
       "      <td>NaN</td>\n",
       "      <td>Nairobi, Nairobi County, Kenya</td>\n",
       "      <td>2022-11-01</td>\n",
       "    </tr>\n",
       "    <tr>\n",
       "      <th>4</th>\n",
       "      <td>Data Analyst</td>\n",
       "      <td>Tata Consultancy Services</td>\n",
       "      <td>onsite</td>\n",
       "      <td>NaN</td>\n",
       "      <td>City of Johannesburg, Gauteng, South Africa</td>\n",
       "      <td>2022-10-27</td>\n",
       "    </tr>\n",
       "  </tbody>\n",
       "</table>\n",
       "</div>"
      ],
      "text/plain": [
       "          title                    company onsite_remote  salary  \\\n",
       "0  Data Analyst                        NNC        onsite     NaN   \n",
       "1  Data Analyst                Watu Credit        onsite     NaN   \n",
       "2  Data Analyst                       Kuda        onsite     NaN   \n",
       "3  Data Analyst                Watu Credit        onsite     NaN   \n",
       "4  Data Analyst  Tata Consultancy Services        onsite     NaN   \n",
       "\n",
       "                                      location posted_date  \n",
       "0                          Cairo, Cairo, Egypt  2022-11-18  \n",
       "1                        Nairobi County, Kenya  2022-11-01  \n",
       "2        Cape Town, Western Cape, South Africa  2022-11-21  \n",
       "3               Nairobi, Nairobi County, Kenya  2022-11-01  \n",
       "4  City of Johannesburg, Gauteng, South Africa  2022-10-27  "
      ]
     },
     "execution_count": 16,
     "metadata": {},
     "output_type": "execute_result"
    }
   ],
   "source": [
    "df.head()"
   ]
  },
  {
   "cell_type": "code",
   "execution_count": 17,
   "metadata": {},
   "outputs": [],
   "source": [
    "#Generate a random numbers for each row between 82.000 and 134.000, then, round to 0 decimals\n",
    "random_numbers_salary = [round(random.uniform(82000, 134000)) for _ in range(len(df))]\n",
    "\n",
    "#Fill the ['salary'] column with random numbers in each row\n",
    "df['salary'].fillna(pd.Series(random_numbers_salary), inplace=True)"
   ]
  },
  {
   "cell_type": "code",
   "execution_count": 18,
   "metadata": {},
   "outputs": [
    {
     "data": {
      "text/html": [
       "<div>\n",
       "<style scoped>\n",
       "    .dataframe tbody tr th:only-of-type {\n",
       "        vertical-align: middle;\n",
       "    }\n",
       "\n",
       "    .dataframe tbody tr th {\n",
       "        vertical-align: top;\n",
       "    }\n",
       "\n",
       "    .dataframe thead th {\n",
       "        text-align: right;\n",
       "    }\n",
       "</style>\n",
       "<table border=\"1\" class=\"dataframe\">\n",
       "  <thead>\n",
       "    <tr style=\"text-align: right;\">\n",
       "      <th></th>\n",
       "      <th>title</th>\n",
       "      <th>company</th>\n",
       "      <th>onsite_remote</th>\n",
       "      <th>salary</th>\n",
       "      <th>location</th>\n",
       "      <th>posted_date</th>\n",
       "    </tr>\n",
       "  </thead>\n",
       "  <tbody>\n",
       "    <tr>\n",
       "      <th>0</th>\n",
       "      <td>Data Analyst</td>\n",
       "      <td>NNC</td>\n",
       "      <td>onsite</td>\n",
       "      <td>122490.0</td>\n",
       "      <td>Cairo, Cairo, Egypt</td>\n",
       "      <td>2022-11-18</td>\n",
       "    </tr>\n",
       "    <tr>\n",
       "      <th>1</th>\n",
       "      <td>Data Analyst</td>\n",
       "      <td>Watu Credit</td>\n",
       "      <td>onsite</td>\n",
       "      <td>98696.0</td>\n",
       "      <td>Nairobi County, Kenya</td>\n",
       "      <td>2022-11-01</td>\n",
       "    </tr>\n",
       "    <tr>\n",
       "      <th>2</th>\n",
       "      <td>Data Analyst</td>\n",
       "      <td>Kuda</td>\n",
       "      <td>onsite</td>\n",
       "      <td>130712.0</td>\n",
       "      <td>Cape Town, Western Cape, South Africa</td>\n",
       "      <td>2022-11-21</td>\n",
       "    </tr>\n",
       "    <tr>\n",
       "      <th>3</th>\n",
       "      <td>Data Analyst</td>\n",
       "      <td>Watu Credit</td>\n",
       "      <td>onsite</td>\n",
       "      <td>121281.0</td>\n",
       "      <td>Nairobi, Nairobi County, Kenya</td>\n",
       "      <td>2022-11-01</td>\n",
       "    </tr>\n",
       "    <tr>\n",
       "      <th>4</th>\n",
       "      <td>Data Analyst</td>\n",
       "      <td>Tata Consultancy Services</td>\n",
       "      <td>onsite</td>\n",
       "      <td>111755.0</td>\n",
       "      <td>City of Johannesburg, Gauteng, South Africa</td>\n",
       "      <td>2022-10-27</td>\n",
       "    </tr>\n",
       "  </tbody>\n",
       "</table>\n",
       "</div>"
      ],
      "text/plain": [
       "          title                    company onsite_remote    salary  \\\n",
       "0  Data Analyst                        NNC        onsite  122490.0   \n",
       "1  Data Analyst                Watu Credit        onsite   98696.0   \n",
       "2  Data Analyst                       Kuda        onsite  130712.0   \n",
       "3  Data Analyst                Watu Credit        onsite  121281.0   \n",
       "4  Data Analyst  Tata Consultancy Services        onsite  111755.0   \n",
       "\n",
       "                                      location posted_date  \n",
       "0                          Cairo, Cairo, Egypt  2022-11-18  \n",
       "1                        Nairobi County, Kenya  2022-11-01  \n",
       "2        Cape Town, Western Cape, South Africa  2022-11-21  \n",
       "3               Nairobi, Nairobi County, Kenya  2022-11-01  \n",
       "4  City of Johannesburg, Gauteng, South Africa  2022-10-27  "
      ]
     },
     "execution_count": 18,
     "metadata": {},
     "output_type": "execute_result"
    }
   ],
   "source": [
    "df.head()"
   ]
  },
  {
   "cell_type": "code",
   "execution_count": 19,
   "metadata": {},
   "outputs": [
    {
     "name": "stdout",
     "output_type": "stream",
     "text": [
      "\n",
      "title\n",
      "False    2872\n",
      "Name: count, dtype: int64\n",
      "\n",
      "company\n",
      "False    2872\n",
      "Name: count, dtype: int64\n",
      "\n",
      "onsite_remote\n",
      "False    2872\n",
      "Name: count, dtype: int64\n",
      "\n",
      "salary\n",
      "False    2872\n",
      "Name: count, dtype: int64\n",
      "\n",
      "location\n",
      "False    2872\n",
      "Name: count, dtype: int64\n",
      "\n",
      "posted_date\n",
      "False    2872\n",
      "Name: count, dtype: int64\n",
      "\n",
      "\n",
      "The size of the Dataframe is: (2872, 6). No nulls registered\n"
     ]
    }
   ],
   "source": [
    "#This verifies the nulls in each column, its 'False' in 2872 rows, that means, the size of the dataframe. There are no null values\n",
    "\n",
    "title_nulls = df['title'].isnull()\n",
    "company_nulls = df['company'].isnull()\n",
    "job_type_nulls = df['onsite_remote'].isnull()\n",
    "salary_nulls = df['salary'].isnull()\n",
    "location_nulls = df['location'].isnull()\n",
    "posted_date_nulls = df['posted_date'].isnull()\n",
    "\n",
    "#Store all column variables in a variable\n",
    "columns_list = [title_nulls, company_nulls, job_type_nulls, salary_nulls, location_nulls, posted_date_nulls]\n",
    "\n",
    "#Print the value counts of each column\n",
    "for column in columns_list:\n",
    "    print(f\"\\n{column.value_counts()}\")\n",
    "\n",
    "print(f\"\\n\\nThe size of the Dataframe is: {df.shape}. No nulls registered\")"
   ]
  },
  {
   "cell_type": "code",
   "execution_count": 20,
   "metadata": {},
   "outputs": [
    {
     "data": {
      "image/png": "[encoded data removed]",
      "text/plain": [
       "<Figure size 1000x400 with 1 Axes>"
      ]
     },
     "metadata": {},
     "output_type": "display_data"
    }
   ],
   "source": [
    "#This groups for job position and calculates the mean salary of each job positon/profession\n",
    "\n",
    "salaries_profession = df.groupby('title')['salary'].mean()\n",
    "\n",
    "plt.figure(figsize=(10, 4))\n",
    "\n",
    "plt.barh(salaries_profession.index, salaries_profession.values)\n",
    "plt.xlabel('Mean Salary')\n",
    "plt.ylabel('Profession')\n",
    "plt.title('Mean salary by profession')\n",
    "ticks = plt.xticks()\n",
    "plt.grid(axis='x')\n",
    "\n",
    "plt.show()"
   ]
  },
  {
   "cell_type": "code",
   "execution_count": 21,
   "metadata": {},
   "outputs": [
    {
     "data": {
      "text/plain": [
       "onsite_remote\n",
       "Remote    950\n",
       "Hybrid    950\n",
       "Onsite    972\n",
       "Name: count, dtype: int64"
      ]
     },
     "execution_count": 21,
     "metadata": {},
     "output_type": "execute_result"
    }
   ],
   "source": [
    "#This line of code converts the first letter to uppercase, counts the quantity of values for each job modality, and sorts the values for the next graph\n",
    "\n",
    "job_type = df['onsite_remote'].str.capitalize().value_counts().sort_values()\n",
    "\n",
    "job_type"
   ]
  },
  {
   "cell_type": "code",
   "execution_count": 44,
   "metadata": {},
   "outputs": [
    {
     "data": {
      "image/png": "[encoded data removed]",
      "text/plain": [
       "<Figure size 1000x400 with 1 Axes>"
      ]
     },
     "metadata": {},
     "output_type": "display_data"
    }
   ],
   "source": [
    "#Graph with the job_type variable (explained previously)\n",
    "plt.figure(figsize=(10, 4))\n",
    "\n",
    "plt.barh(job_type.index, job_type.values)\n",
    "plt.xlabel('Quantity')\n",
    "plt.ylabel('Job Type')\n",
    "plt.title('Job type distribution')\n",
    "ticks = plt.xticks()\n",
    "plt.grid(axis='x')\n",
    "\n",
    "plt.show()"
   ]
  },
  {
   "cell_type": "code",
   "execution_count": 23,
   "metadata": {},
   "outputs": [
    {
     "name": "stdout",
     "output_type": "stream",
     "text": [
      "['Cairo, Cairo, Egypt' 'Nairobi County, Kenya'\n",
      " 'Cape Town, Western Cape, South Africa' 'Nairobi, Nairobi County, Kenya'\n",
      " 'City of Johannesburg, Gauteng, South Africa' 'Giza, Al Jizah, Egypt'\n",
      " 'South East, South-East District, Botswana'\n",
      " 'Dakar, Dakar Region, Senegal'\n",
      " 'Nzalae/ Nzawa locations, Kitui County, Kenya'\n",
      " 'Johannesburg, Gauteng, South Africa' 'Centurion, Gauteng, South Africa'\n",
      " 'Sousse, Sousse, Tunisia' 'Rustenburg, North-West, South Africa'\n",
      " 'South-East District, Botswana'\n",
      " 'Munya Gen, North Bank Division, The Gambia'\n",
      " '6th of October, Al Jizah, Egypt' 'Ghana' 'Lagos, Lagos State, Nigeria'\n",
      " 'East London, Eastern Cape, South Africa'\n",
      " 'Kempton Park, Gauteng, South Africa' 'Midrand, Gauteng, South Africa'\n",
      " 'Préfecture de Fès, Fès-Meknès, Morocco'\n",
      " 'Randburg, Gauteng, South Africa' 'Pretoria, Gauteng, South Africa'\n",
      " 'Prefecture of Casablanca, Casablanca-Settat, Morocco'\n",
      " 'Casablanca, Casablanca-Settat, Morocco' 'Southwest, Burkina Faso'\n",
      " 'Accra, Greater Accra Region, Ghana' 'Egypt' 'Tunis, Tunis, Tunisia'\n",
      " 'Gauteng, South Africa' 'Eastern Africa' 'South Africa'\n",
      " 'Sandton, Gauteng, South Africa' 'Bamako, Bamako, Mali' 'Kenya'\n",
      " 'Marondera, Mashonaland East Province, Zimbabwe'\n",
      " 'Western Cape, South Africa' 'Johannesburg Metropolitan Area'\n",
      " 'Mechouar, Casablanca-Settat, Morocco' 'Cairo, Egypt']\n"
     ]
    }
   ],
   "source": [
    "#Do the same with location, grouping each one in Countries\n",
    "print(df['location'].unique())"
   ]
  },
  {
   "cell_type": "markdown",
   "metadata": {},
   "source": [
    "## Grouping all locations per country manually\n",
    "These will be grouped in Countries: \n",
    "* Egypt\n",
    "* Kenya\n",
    "* South Africa\n",
    "* Botswana\n",
    "* Senegal\n",
    "* Tunisia\n",
    "* Gambia\n",
    "* Ghana\n",
    "* Nigeria\n",
    "* Morocco\n",
    "* Burkina Faso\n",
    "* Eastern Africa\n",
    "* Mali\n",
    "* Zimbabwe\n"
   ]
  },
  {
   "cell_type": "code",
   "execution_count": 24,
   "metadata": {},
   "outputs": [],
   "source": [
    "df['location'].replace([\n",
    "    'Nairobi, Nairobi County, Kenya',\n",
    "    'Nairobi County, Kenya',\n",
    "    'Nzalae/ Nzawa locations, Kitui County, Kenya',\n",
    "    'Kenya',\n",
    "    ],\n",
    "    \n",
    "    'Kenia', inplace=True\n",
    ")"
   ]
  },
  {
   "cell_type": "code",
   "execution_count": 25,
   "metadata": {},
   "outputs": [],
   "source": [
    "df['location'].replace([\n",
    "    'Cape Town, Western Cape, South Africa',\n",
    "    'City of Johannesburg, Gauteng, South Africa',\n",
    "    'Johannesburg, Gauteng, South Africa',\n",
    "    'Centurion, Gauteng, South Africa',\n",
    "    'Rustenburg, North-West, South Africa',\n",
    "    'East London, Eastern Cape, South Africa',\n",
    "    'Kempton Park, Gauteng, South Africa',\n",
    "    'Midrand, Gauteng, South Africa',\n",
    "    'Randburg, Gauteng, South Africa',\n",
    "    'Pretoria, Gauteng, South Africa',\n",
    "    'Gauteng, South Africa',\n",
    "    'Sandton, Gauteng, South Africa',\n",
    "    'Western Cape, South Africa',\n",
    "    'Johannesburg Metropolitan Area'],\n",
    "    \n",
    "    'South Africa', inplace=True\n",
    ")"
   ]
  },
  {
   "cell_type": "code",
   "execution_count": 26,
   "metadata": {},
   "outputs": [],
   "source": [
    "df['location'].replace([\n",
    "    'South East, South-East District, Botswana',\n",
    "    'South-East District, Botswana',\n",
    "    ],\n",
    "                       \n",
    "'Botswana', inplace=True\n",
    ")"
   ]
  },
  {
   "cell_type": "code",
   "execution_count": 27,
   "metadata": {},
   "outputs": [],
   "source": [
    "df['location'].replace(\n",
    "    'Lagos, Lagos State, Nigeria', \n",
    "    \n",
    "    'Nigeria', inplace=True)"
   ]
  },
  {
   "cell_type": "code",
   "execution_count": 28,
   "metadata": {},
   "outputs": [],
   "source": [
    "df['location'].replace(\n",
    "    'Dakar, Dakar Region, Senegal', \n",
    "    \n",
    "    'Senegal', inplace=True)"
   ]
  },
  {
   "cell_type": "code",
   "execution_count": 29,
   "metadata": {},
   "outputs": [],
   "source": [
    "df['location'].replace(\n",
    "    'Accra, Greater Accra Region, Ghana', \n",
    "    \n",
    "    'Ghana', inplace=True)"
   ]
  },
  {
   "cell_type": "code",
   "execution_count": 30,
   "metadata": {},
   "outputs": [],
   "source": [
    "df['location'].replace(\n",
    "    'Munya Gen, North Bank Division, The Gambia', \n",
    "    \n",
    "    'Gambia', inplace=True)"
   ]
  },
  {
   "cell_type": "code",
   "execution_count": 31,
   "metadata": {},
   "outputs": [],
   "source": [
    "df['location'].replace(\n",
    "    'Southwest, Burkina Faso', \n",
    "    \n",
    "    'Burkina Faso', inplace=True)"
   ]
  },
  {
   "cell_type": "code",
   "execution_count": 32,
   "metadata": {},
   "outputs": [],
   "source": [
    "df['location'].replace([\n",
    "    'Cairo, Egypt', \n",
    "    'Giza, Al Jizah, Egypt', \n",
    "    'Cairo, Cairo, Egypt', \n",
    "    '6th of October, Al Jizah, Egypt'\n",
    "    ], \n",
    "                       \n",
    "    'Egypt', inplace=True)"
   ]
  },
  {
   "cell_type": "code",
   "execution_count": 33,
   "metadata": {},
   "outputs": [],
   "source": [
    "df['location'].replace(\n",
    "    'Marondera, Mashonaland East Province, Zimbabwe', \n",
    "    \n",
    "    'Zimbabwe', inplace=True)"
   ]
  },
  {
   "cell_type": "code",
   "execution_count": 34,
   "metadata": {},
   "outputs": [],
   "source": [
    "df['location'].replace([\n",
    "    'Sousse, Sousse, Tunisia', \n",
    "    'Tunis, Tunis, Tunisia'\n",
    "    ],\n",
    "    \n",
    "    'Tunisia', inplace=True)"
   ]
  },
  {
   "cell_type": "code",
   "execution_count": 35,
   "metadata": {},
   "outputs": [],
   "source": [
    "df['location'].replace(\n",
    "    'Bamako, Bamako, Mali', \n",
    "    \n",
    "    'Mali', inplace=True)"
   ]
  },
  {
   "cell_type": "code",
   "execution_count": 36,
   "metadata": {},
   "outputs": [],
   "source": [
    "df['location'].replace([\n",
    "    'Préfecture de Fès, Fès-Meknès, Morocco',\n",
    "    'Prefecture of Casablanca, Casablanca-Settat, Morocco',\n",
    "     'Casablanca, Casablanca-Settat, Morocco',\n",
    "     'Mechouar, Casablanca-Settat, Morocco',\n",
    "    ],\n",
    "    \n",
    "    'Morocco', inplace=True)"
   ]
  },
  {
   "cell_type": "code",
   "execution_count": 37,
   "metadata": {},
   "outputs": [
    {
     "name": "stdout",
     "output_type": "stream",
     "text": [
      "['Egypt' 'Kenia' 'South Africa' 'Botswana' 'Senegal' 'Tunisia' 'Gambia'\n",
      " 'Ghana' 'Nigeria' 'Morocco' 'Burkina Faso' 'Eastern Africa' 'Mali'\n",
      " 'Zimbabwe']\n"
     ]
    }
   ],
   "source": [
    "#Final result:\n",
    "\n",
    "print(df['location'].unique())"
   ]
  },
  {
   "cell_type": "code",
   "execution_count": 38,
   "metadata": {},
   "outputs": [
    {
     "name": "stdout",
     "output_type": "stream",
     "text": [
      "[False]\n"
     ]
    }
   ],
   "source": [
    "#Verify NaN values in the ['location'] column\n",
    "nan_location = df['location'].isna()\n",
    "print(nan_location.unique())"
   ]
  },
  {
   "cell_type": "code",
   "execution_count": 39,
   "metadata": {},
   "outputs": [
    {
     "data": {
      "text/html": [
       "<div>\n",
       "<style scoped>\n",
       "    .dataframe tbody tr th:only-of-type {\n",
       "        vertical-align: middle;\n",
       "    }\n",
       "\n",
       "    .dataframe tbody tr th {\n",
       "        vertical-align: top;\n",
       "    }\n",
       "\n",
       "    .dataframe thead th {\n",
       "        text-align: right;\n",
       "    }\n",
       "</style>\n",
       "<table border=\"1\" class=\"dataframe\">\n",
       "  <thead>\n",
       "    <tr style=\"text-align: right;\">\n",
       "      <th></th>\n",
       "      <th>title</th>\n",
       "      <th>company</th>\n",
       "      <th>onsite_remote</th>\n",
       "      <th>salary</th>\n",
       "      <th>location</th>\n",
       "      <th>posted_date</th>\n",
       "    </tr>\n",
       "  </thead>\n",
       "  <tbody>\n",
       "    <tr>\n",
       "      <th>0</th>\n",
       "      <td>Data Analyst</td>\n",
       "      <td>NNC</td>\n",
       "      <td>onsite</td>\n",
       "      <td>122490.0</td>\n",
       "      <td>Egypt</td>\n",
       "      <td>2022-11-18</td>\n",
       "    </tr>\n",
       "    <tr>\n",
       "      <th>1</th>\n",
       "      <td>Data Analyst</td>\n",
       "      <td>Watu Credit</td>\n",
       "      <td>onsite</td>\n",
       "      <td>98696.0</td>\n",
       "      <td>Kenia</td>\n",
       "      <td>2022-11-01</td>\n",
       "    </tr>\n",
       "    <tr>\n",
       "      <th>2</th>\n",
       "      <td>Data Analyst</td>\n",
       "      <td>Kuda</td>\n",
       "      <td>onsite</td>\n",
       "      <td>130712.0</td>\n",
       "      <td>South Africa</td>\n",
       "      <td>2022-11-21</td>\n",
       "    </tr>\n",
       "    <tr>\n",
       "      <th>3</th>\n",
       "      <td>Data Analyst</td>\n",
       "      <td>Watu Credit</td>\n",
       "      <td>onsite</td>\n",
       "      <td>121281.0</td>\n",
       "      <td>Kenia</td>\n",
       "      <td>2022-11-01</td>\n",
       "    </tr>\n",
       "    <tr>\n",
       "      <th>4</th>\n",
       "      <td>Data Analyst</td>\n",
       "      <td>Tata Consultancy Services</td>\n",
       "      <td>onsite</td>\n",
       "      <td>111755.0</td>\n",
       "      <td>South Africa</td>\n",
       "      <td>2022-10-27</td>\n",
       "    </tr>\n",
       "  </tbody>\n",
       "</table>\n",
       "</div>"
      ],
      "text/plain": [
       "          title                    company onsite_remote    salary  \\\n",
       "0  Data Analyst                        NNC        onsite  122490.0   \n",
       "1  Data Analyst                Watu Credit        onsite   98696.0   \n",
       "2  Data Analyst                       Kuda        onsite  130712.0   \n",
       "3  Data Analyst                Watu Credit        onsite  121281.0   \n",
       "4  Data Analyst  Tata Consultancy Services        onsite  111755.0   \n",
       "\n",
       "       location posted_date  \n",
       "0         Egypt  2022-11-18  \n",
       "1         Kenia  2022-11-01  \n",
       "2  South Africa  2022-11-21  \n",
       "3         Kenia  2022-11-01  \n",
       "4  South Africa  2022-10-27  "
      ]
     },
     "execution_count": 39,
     "metadata": {},
     "output_type": "execute_result"
    }
   ],
   "source": [
    "df.head()"
   ]
  },
  {
   "cell_type": "code",
   "execution_count": 40,
   "metadata": {},
   "outputs": [
    {
     "data": {
      "image/png": "[encoded data removed]",
      "text/plain": [
       "<Figure size 1000x400 with 1 Axes>"
      ]
     },
     "metadata": {},
     "output_type": "display_data"
    }
   ],
   "source": [
    "#Groups the mean salary per location, orts the values in descending order, and then limit the amount that will be shown to 10\n",
    "graph = df.groupby('location')['salary'].mean().sort_values()[:10]\n",
    "\n",
    "plt.figure(figsize=(10, 4))\n",
    "plt.barh(graph.index, graph.values)\n",
    "plt.xlabel('Mean Salary')\n",
    "plt.ylabel('Country')\n",
    "plt.title('Mean Salary per country')\n",
    "plt.grid(axis='x')\n",
    "ticks = plt.xticks()\n",
    "\n",
    "plt.show()"
   ]
  },
  {
   "cell_type": "code",
   "execution_count": 41,
   "metadata": {},
   "outputs": [
    {
     "data": {
      "image/png": "[encoded data removed]",
      "text/plain": [
       "<Figure size 1000x400 with 1 Axes>"
      ]
     },
     "metadata": {},
     "output_type": "display_data"
    }
   ],
   "source": [
    "#Groups and counts how many professionals of each job positions are in each company, sorts the values in descending order and then limit the amount that will be shown to 10\n",
    "companies = df.groupby('company')['title'].count().sort_values(ascending=False)[:10]\n",
    "\n",
    "plt.figure(figsize=(10, 4))\n",
    "plt.barh(companies.index, companies.values)\n",
    "plt.xlabel('Quantity')\n",
    "plt.ylabel('Company name')\n",
    "plt.title('Most popular companies per job position')\n",
    "plt.grid(axis='x')\n",
    "\n",
    "plt.show()\n"
   ]
  },
  {
   "cell_type": "code",
   "execution_count": 42,
   "metadata": {},
   "outputs": [
    {
     "data": {
      "text/plain": [
       "False"
      ]
     },
     "execution_count": 42,
     "metadata": {},
     "output_type": "execute_result"
    }
   ],
   "source": [
    "#Vefify NaN values in the ['posted_date'] column\n",
    "nan_dates = df['posted_date'].isna().any()\n",
    "\n",
    "nan_dates"
   ]
  },
  {
   "cell_type": "code",
   "execution_count": 43,
   "metadata": {},
   "outputs": [
    {
     "name": "stdout",
     "output_type": "stream",
     "text": [
      "['2022-11-18' '2022-11-01' '2022-11-21' '2022-10-27' '2022-11-10'\n",
      " '2022-11-22' '2022-11-23' '2022-10-24' '2022-09-18' '2022-10-22'\n",
      " '2022-11-16' '2022-10-19' '2022-11-04' '2022-10-17' '2022-11-12'\n",
      " '2022-11-08' '2022-11-14' '2022-10-13' '2022-11-17' '2022-11-09'\n",
      " '2022-08-28' '2022-10-05' '2022-10-12' '2022-10-29' '2022-10-04'\n",
      " '2022-10-25' '2022-10-15' '2022-11-15' '2022-11-20' '2022-10-18'\n",
      " '2022-10-03' '2022-11-07' '2022-11-11' '2022-11-03' '2022-10-23'\n",
      " '2022-11-13' '2022-10-20']\n"
     ]
    }
   ],
   "source": [
    "print(df['posted_date'].unique())"
   ]
  },
  {
   "cell_type": "code",
   "execution_count": null,
   "metadata": {},
   "outputs": [],
   "source": []
  }
 ],
 "metadata": {
  "kernelspec": {
   "display_name": "Python 3",
   "language": "python",
   "name": "python3"
  },
  "language_info": {
   "codemirror_mode": {
    "name": "ipython",
    "version": 3
   },
   "file_extension": ".py",
   "mimetype": "text/x-python",
   "name": "python",
   "nbconvert_exporter": "python",
   "pygments_lexer": "ipython3",
   "version": "3.11.6"
  }
 },
 "nbformat": 4,
 "nbformat_minor": 2
}
