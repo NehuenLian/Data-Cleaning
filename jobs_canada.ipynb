{
 "cells": [
  {
   "cell_type": "markdown",
   "metadata": {},
   "source": [
    "# Data Cleaning practice: Canada LinkedIn Jobs"
   ]
  },
  {
   "cell_type": "code",
   "execution_count": 2,
   "metadata": {},
   "outputs": [],
   "source": [
    "import pandas as pd\n",
    "import matplotlib.pyplot as plt\n",
    "import numpy as np\n",
    "import folium\n",
    "import seaborn as sns\n",
    "import plotly\n",
    "import random"
   ]
  },
  {
   "cell_type": "code",
   "execution_count": 3,
   "metadata": {},
   "outputs": [],
   "source": [
    "data = 'linkedin-jobs-canada.csv'\n",
    "\n",
    "df = pd.read_csv(data)"
   ]
  },
  {
   "cell_type": "code",
   "execution_count": 4,
   "metadata": {},
   "outputs": [
    {
     "data": {
      "text/plain": [
       "(2773, 9)"
      ]
     },
     "execution_count": 4,
     "metadata": {},
     "output_type": "execute_result"
    }
   ],
   "source": [
    "df.shape"
   ]
  },
  {
   "cell_type": "code",
   "execution_count": 5,
   "metadata": {},
   "outputs": [
    {
     "data": {
      "text/html": [
       "<div>\n",
       "<style scoped>\n",
       "    .dataframe tbody tr th:only-of-type {\n",
       "        vertical-align: middle;\n",
       "    }\n",
       "\n",
       "    .dataframe tbody tr th {\n",
       "        vertical-align: top;\n",
       "    }\n",
       "\n",
       "    .dataframe thead th {\n",
       "        text-align: right;\n",
       "    }\n",
       "</style>\n",
       "<table border=\"1\" class=\"dataframe\">\n",
       "  <thead>\n",
       "    <tr style=\"text-align: right;\">\n",
       "      <th></th>\n",
       "      <th>title</th>\n",
       "      <th>company</th>\n",
       "      <th>description</th>\n",
       "      <th>onsite_remote</th>\n",
       "      <th>salary</th>\n",
       "      <th>location</th>\n",
       "      <th>criteria</th>\n",
       "      <th>posted_date</th>\n",
       "      <th>link</th>\n",
       "    </tr>\n",
       "  </thead>\n",
       "  <tbody>\n",
       "    <tr>\n",
       "      <th>0</th>\n",
       "      <td>Data Analyst</td>\n",
       "      <td>Axonify</td>\n",
       "      <td>Axonify is an intelligent workforce enablement...</td>\n",
       "      <td>onsite</td>\n",
       "      <td>NaN</td>\n",
       "      <td>Waterloo, Ontario, Canada</td>\n",
       "      <td>[{'Seniority level': 'Entry level'}, {'Employm...</td>\n",
       "      <td>2022-10-24</td>\n",
       "      <td>https://ca.linkedin.com/jobs/view/data-analyst...</td>\n",
       "    </tr>\n",
       "    <tr>\n",
       "      <th>1</th>\n",
       "      <td>Data Analyst</td>\n",
       "      <td>B3 Systems</td>\n",
       "      <td>The ideal candidate will use their passion for...</td>\n",
       "      <td>onsite</td>\n",
       "      <td>NaN</td>\n",
       "      <td>Toronto, Ontario, Canada</td>\n",
       "      <td>[{'Employment type': 'Full-time'}]</td>\n",
       "      <td>2022-11-18</td>\n",
       "      <td>https://ca.linkedin.com/jobs/view/data-analyst...</td>\n",
       "    </tr>\n",
       "    <tr>\n",
       "      <th>2</th>\n",
       "      <td>Data Analyst</td>\n",
       "      <td>Wood Mackenzie</td>\n",
       "      <td>Company DescriptionWood Mackenzie is the globa...</td>\n",
       "      <td>onsite</td>\n",
       "      <td>NaN</td>\n",
       "      <td>Calgary, Alberta, Canada</td>\n",
       "      <td>[{'Seniority level': 'Associate'}, {'Employmen...</td>\n",
       "      <td>2022-11-18</td>\n",
       "      <td>https://ca.linkedin.com/jobs/view/data-analyst...</td>\n",
       "    </tr>\n",
       "    <tr>\n",
       "      <th>3</th>\n",
       "      <td>Data Analyst</td>\n",
       "      <td>LOFT Community Services</td>\n",
       "      <td>1 Part Time Permanent PositionDATE: November 1...</td>\n",
       "      <td>onsite</td>\n",
       "      <td>NaN</td>\n",
       "      <td>Toronto, Ontario, Canada</td>\n",
       "      <td>[{'Employment type': 'Part-time'}]</td>\n",
       "      <td>2022-11-17</td>\n",
       "      <td>https://ca.linkedin.com/jobs/view/data-analyst...</td>\n",
       "    </tr>\n",
       "    <tr>\n",
       "      <th>4</th>\n",
       "      <td>Data Analyst</td>\n",
       "      <td>NAM Info Inc</td>\n",
       "      <td>Position: Data AnalystWork Locations: Toronto,...</td>\n",
       "      <td>onsite</td>\n",
       "      <td>NaN</td>\n",
       "      <td>Toronto, Ontario, Canada</td>\n",
       "      <td>[{'Seniority level': 'Mid-Senior level'}, {'Em...</td>\n",
       "      <td>2022-11-08</td>\n",
       "      <td>https://ca.linkedin.com/jobs/view/data-analyst...</td>\n",
       "    </tr>\n",
       "  </tbody>\n",
       "</table>\n",
       "</div>"
      ],
      "text/plain": [
       "          title                  company  \\\n",
       "0  Data Analyst                  Axonify   \n",
       "1  Data Analyst               B3 Systems   \n",
       "2  Data Analyst           Wood Mackenzie   \n",
       "3  Data Analyst  LOFT Community Services   \n",
       "4  Data Analyst             NAM Info Inc   \n",
       "\n",
       "                                         description onsite_remote salary  \\\n",
       "0  Axonify is an intelligent workforce enablement...        onsite    NaN   \n",
       "1  The ideal candidate will use their passion for...        onsite    NaN   \n",
       "2  Company DescriptionWood Mackenzie is the globa...        onsite    NaN   \n",
       "3  1 Part Time Permanent PositionDATE: November 1...        onsite    NaN   \n",
       "4  Position: Data AnalystWork Locations: Toronto,...        onsite    NaN   \n",
       "\n",
       "                    location  \\\n",
       "0  Waterloo, Ontario, Canada   \n",
       "1   Toronto, Ontario, Canada   \n",
       "2   Calgary, Alberta, Canada   \n",
       "3   Toronto, Ontario, Canada   \n",
       "4   Toronto, Ontario, Canada   \n",
       "\n",
       "                                            criteria posted_date  \\\n",
       "0  [{'Seniority level': 'Entry level'}, {'Employm...  2022-10-24   \n",
       "1                 [{'Employment type': 'Full-time'}]  2022-11-18   \n",
       "2  [{'Seniority level': 'Associate'}, {'Employmen...  2022-11-18   \n",
       "3                 [{'Employment type': 'Part-time'}]  2022-11-17   \n",
       "4  [{'Seniority level': 'Mid-Senior level'}, {'Em...  2022-11-08   \n",
       "\n",
       "                                                link  \n",
       "0  https://ca.linkedin.com/jobs/view/data-analyst...  \n",
       "1  https://ca.linkedin.com/jobs/view/data-analyst...  \n",
       "2  https://ca.linkedin.com/jobs/view/data-analyst...  \n",
       "3  https://ca.linkedin.com/jobs/view/data-analyst...  \n",
       "4  https://ca.linkedin.com/jobs/view/data-analyst...  "
      ]
     },
     "execution_count": 5,
     "metadata": {},
     "output_type": "execute_result"
    }
   ],
   "source": [
    "df.head()"
   ]
  },
  {
   "cell_type": "code",
   "execution_count": 6,
   "metadata": {},
   "outputs": [],
   "source": [
    "#Delete not relevant columns\n",
    "#Salary is dropped because is a NaN column. Later ['salary'] will be added with random numbers for the practice\n",
    "df.drop(columns=['salary', 'description', 'criteria', 'link'], inplace=True)"
   ]
  },
  {
   "cell_type": "code",
   "execution_count": 7,
   "metadata": {},
   "outputs": [
    {
     "data": {
      "text/html": [
       "<div>\n",
       "<style scoped>\n",
       "    .dataframe tbody tr th:only-of-type {\n",
       "        vertical-align: middle;\n",
       "    }\n",
       "\n",
       "    .dataframe tbody tr th {\n",
       "        vertical-align: top;\n",
       "    }\n",
       "\n",
       "    .dataframe thead th {\n",
       "        text-align: right;\n",
       "    }\n",
       "</style>\n",
       "<table border=\"1\" class=\"dataframe\">\n",
       "  <thead>\n",
       "    <tr style=\"text-align: right;\">\n",
       "      <th></th>\n",
       "      <th>title</th>\n",
       "      <th>company</th>\n",
       "      <th>onsite_remote</th>\n",
       "      <th>location</th>\n",
       "      <th>posted_date</th>\n",
       "    </tr>\n",
       "  </thead>\n",
       "  <tbody>\n",
       "    <tr>\n",
       "      <th>0</th>\n",
       "      <td>Data Analyst</td>\n",
       "      <td>Axonify</td>\n",
       "      <td>onsite</td>\n",
       "      <td>Waterloo, Ontario, Canada</td>\n",
       "      <td>2022-10-24</td>\n",
       "    </tr>\n",
       "    <tr>\n",
       "      <th>1</th>\n",
       "      <td>Data Analyst</td>\n",
       "      <td>B3 Systems</td>\n",
       "      <td>onsite</td>\n",
       "      <td>Toronto, Ontario, Canada</td>\n",
       "      <td>2022-11-18</td>\n",
       "    </tr>\n",
       "    <tr>\n",
       "      <th>2</th>\n",
       "      <td>Data Analyst</td>\n",
       "      <td>Wood Mackenzie</td>\n",
       "      <td>onsite</td>\n",
       "      <td>Calgary, Alberta, Canada</td>\n",
       "      <td>2022-11-18</td>\n",
       "    </tr>\n",
       "    <tr>\n",
       "      <th>3</th>\n",
       "      <td>Data Analyst</td>\n",
       "      <td>LOFT Community Services</td>\n",
       "      <td>onsite</td>\n",
       "      <td>Toronto, Ontario, Canada</td>\n",
       "      <td>2022-11-17</td>\n",
       "    </tr>\n",
       "    <tr>\n",
       "      <th>4</th>\n",
       "      <td>Data Analyst</td>\n",
       "      <td>NAM Info Inc</td>\n",
       "      <td>onsite</td>\n",
       "      <td>Toronto, Ontario, Canada</td>\n",
       "      <td>2022-11-08</td>\n",
       "    </tr>\n",
       "  </tbody>\n",
       "</table>\n",
       "</div>"
      ],
      "text/plain": [
       "          title                  company onsite_remote  \\\n",
       "0  Data Analyst                  Axonify        onsite   \n",
       "1  Data Analyst               B3 Systems        onsite   \n",
       "2  Data Analyst           Wood Mackenzie        onsite   \n",
       "3  Data Analyst  LOFT Community Services        onsite   \n",
       "4  Data Analyst             NAM Info Inc        onsite   \n",
       "\n",
       "                    location posted_date  \n",
       "0  Waterloo, Ontario, Canada  2022-10-24  \n",
       "1   Toronto, Ontario, Canada  2022-11-18  \n",
       "2   Calgary, Alberta, Canada  2022-11-18  \n",
       "3   Toronto, Ontario, Canada  2022-11-17  \n",
       "4   Toronto, Ontario, Canada  2022-11-08  "
      ]
     },
     "execution_count": 7,
     "metadata": {},
     "output_type": "execute_result"
    }
   ],
   "source": [
    "df.head()"
   ]
  },
  {
   "cell_type": "code",
   "execution_count": 8,
   "metadata": {},
   "outputs": [],
   "source": [
    "#Generate a random numbers for each row between 82.000 and 134.000, then, round to 0 decimals\n",
    "random_numbers_salary = [round(random.uniform(82000, 134000)) for _ in range(len(df))]\n",
    "\n",
    "#Create a new column named ['salary'] same as the previous column ['salary]\n",
    "df['salary'] = random_numbers_salary"
   ]
  },
  {
   "cell_type": "code",
   "execution_count": 9,
   "metadata": {},
   "outputs": [
    {
     "data": {
      "text/html": [
       "<div>\n",
       "<style scoped>\n",
       "    .dataframe tbody tr th:only-of-type {\n",
       "        vertical-align: middle;\n",
       "    }\n",
       "\n",
       "    .dataframe tbody tr th {\n",
       "        vertical-align: top;\n",
       "    }\n",
       "\n",
       "    .dataframe thead th {\n",
       "        text-align: right;\n",
       "    }\n",
       "</style>\n",
       "<table border=\"1\" class=\"dataframe\">\n",
       "  <thead>\n",
       "    <tr style=\"text-align: right;\">\n",
       "      <th></th>\n",
       "      <th>title</th>\n",
       "      <th>company</th>\n",
       "      <th>onsite_remote</th>\n",
       "      <th>location</th>\n",
       "      <th>posted_date</th>\n",
       "      <th>salary</th>\n",
       "    </tr>\n",
       "  </thead>\n",
       "  <tbody>\n",
       "    <tr>\n",
       "      <th>0</th>\n",
       "      <td>Data Analyst</td>\n",
       "      <td>Axonify</td>\n",
       "      <td>onsite</td>\n",
       "      <td>Waterloo, Ontario, Canada</td>\n",
       "      <td>2022-10-24</td>\n",
       "      <td>132970</td>\n",
       "    </tr>\n",
       "    <tr>\n",
       "      <th>1</th>\n",
       "      <td>Data Analyst</td>\n",
       "      <td>B3 Systems</td>\n",
       "      <td>onsite</td>\n",
       "      <td>Toronto, Ontario, Canada</td>\n",
       "      <td>2022-11-18</td>\n",
       "      <td>133608</td>\n",
       "    </tr>\n",
       "    <tr>\n",
       "      <th>2</th>\n",
       "      <td>Data Analyst</td>\n",
       "      <td>Wood Mackenzie</td>\n",
       "      <td>onsite</td>\n",
       "      <td>Calgary, Alberta, Canada</td>\n",
       "      <td>2022-11-18</td>\n",
       "      <td>87199</td>\n",
       "    </tr>\n",
       "    <tr>\n",
       "      <th>3</th>\n",
       "      <td>Data Analyst</td>\n",
       "      <td>LOFT Community Services</td>\n",
       "      <td>onsite</td>\n",
       "      <td>Toronto, Ontario, Canada</td>\n",
       "      <td>2022-11-17</td>\n",
       "      <td>125143</td>\n",
       "    </tr>\n",
       "    <tr>\n",
       "      <th>4</th>\n",
       "      <td>Data Analyst</td>\n",
       "      <td>NAM Info Inc</td>\n",
       "      <td>onsite</td>\n",
       "      <td>Toronto, Ontario, Canada</td>\n",
       "      <td>2022-11-08</td>\n",
       "      <td>120303</td>\n",
       "    </tr>\n",
       "  </tbody>\n",
       "</table>\n",
       "</div>"
      ],
      "text/plain": [
       "          title                  company onsite_remote  \\\n",
       "0  Data Analyst                  Axonify        onsite   \n",
       "1  Data Analyst               B3 Systems        onsite   \n",
       "2  Data Analyst           Wood Mackenzie        onsite   \n",
       "3  Data Analyst  LOFT Community Services        onsite   \n",
       "4  Data Analyst             NAM Info Inc        onsite   \n",
       "\n",
       "                    location posted_date  salary  \n",
       "0  Waterloo, Ontario, Canada  2022-10-24  132970  \n",
       "1   Toronto, Ontario, Canada  2022-11-18  133608  \n",
       "2   Calgary, Alberta, Canada  2022-11-18   87199  \n",
       "3   Toronto, Ontario, Canada  2022-11-17  125143  \n",
       "4   Toronto, Ontario, Canada  2022-11-08  120303  "
      ]
     },
     "execution_count": 9,
     "metadata": {},
     "output_type": "execute_result"
    }
   ],
   "source": [
    "df.head()"
   ]
  },
  {
   "cell_type": "code",
   "execution_count": 10,
   "metadata": {},
   "outputs": [],
   "source": [
    "#Move the column to 4th position\n",
    "df.insert(3, 'salary', df.pop('salary'))"
   ]
  },
  {
   "cell_type": "code",
   "execution_count": 11,
   "metadata": {},
   "outputs": [
    {
     "data": {
      "text/html": [
       "<div>\n",
       "<style scoped>\n",
       "    .dataframe tbody tr th:only-of-type {\n",
       "        vertical-align: middle;\n",
       "    }\n",
       "\n",
       "    .dataframe tbody tr th {\n",
       "        vertical-align: top;\n",
       "    }\n",
       "\n",
       "    .dataframe thead th {\n",
       "        text-align: right;\n",
       "    }\n",
       "</style>\n",
       "<table border=\"1\" class=\"dataframe\">\n",
       "  <thead>\n",
       "    <tr style=\"text-align: right;\">\n",
       "      <th></th>\n",
       "      <th>title</th>\n",
       "      <th>company</th>\n",
       "      <th>onsite_remote</th>\n",
       "      <th>salary</th>\n",
       "      <th>location</th>\n",
       "      <th>posted_date</th>\n",
       "    </tr>\n",
       "  </thead>\n",
       "  <tbody>\n",
       "    <tr>\n",
       "      <th>0</th>\n",
       "      <td>Data Analyst</td>\n",
       "      <td>Axonify</td>\n",
       "      <td>onsite</td>\n",
       "      <td>132970</td>\n",
       "      <td>Waterloo, Ontario, Canada</td>\n",
       "      <td>2022-10-24</td>\n",
       "    </tr>\n",
       "    <tr>\n",
       "      <th>1</th>\n",
       "      <td>Data Analyst</td>\n",
       "      <td>B3 Systems</td>\n",
       "      <td>onsite</td>\n",
       "      <td>133608</td>\n",
       "      <td>Toronto, Ontario, Canada</td>\n",
       "      <td>2022-11-18</td>\n",
       "    </tr>\n",
       "    <tr>\n",
       "      <th>2</th>\n",
       "      <td>Data Analyst</td>\n",
       "      <td>Wood Mackenzie</td>\n",
       "      <td>onsite</td>\n",
       "      <td>87199</td>\n",
       "      <td>Calgary, Alberta, Canada</td>\n",
       "      <td>2022-11-18</td>\n",
       "    </tr>\n",
       "    <tr>\n",
       "      <th>3</th>\n",
       "      <td>Data Analyst</td>\n",
       "      <td>LOFT Community Services</td>\n",
       "      <td>onsite</td>\n",
       "      <td>125143</td>\n",
       "      <td>Toronto, Ontario, Canada</td>\n",
       "      <td>2022-11-17</td>\n",
       "    </tr>\n",
       "    <tr>\n",
       "      <th>4</th>\n",
       "      <td>Data Analyst</td>\n",
       "      <td>NAM Info Inc</td>\n",
       "      <td>onsite</td>\n",
       "      <td>120303</td>\n",
       "      <td>Toronto, Ontario, Canada</td>\n",
       "      <td>2022-11-08</td>\n",
       "    </tr>\n",
       "  </tbody>\n",
       "</table>\n",
       "</div>"
      ],
      "text/plain": [
       "          title                  company onsite_remote  salary  \\\n",
       "0  Data Analyst                  Axonify        onsite  132970   \n",
       "1  Data Analyst               B3 Systems        onsite  133608   \n",
       "2  Data Analyst           Wood Mackenzie        onsite   87199   \n",
       "3  Data Analyst  LOFT Community Services        onsite  125143   \n",
       "4  Data Analyst             NAM Info Inc        onsite  120303   \n",
       "\n",
       "                    location posted_date  \n",
       "0  Waterloo, Ontario, Canada  2022-10-24  \n",
       "1   Toronto, Ontario, Canada  2022-11-18  \n",
       "2   Calgary, Alberta, Canada  2022-11-18  \n",
       "3   Toronto, Ontario, Canada  2022-11-17  \n",
       "4   Toronto, Ontario, Canada  2022-11-08  "
      ]
     },
     "execution_count": 11,
     "metadata": {},
     "output_type": "execute_result"
    }
   ],
   "source": [
    "df.head()"
   ]
  },
  {
   "cell_type": "markdown",
   "metadata": {},
   "source": [
    "## Grouping job positions in 4 professions\n",
    "These will be grouped in 4 professions\n",
    "* Data Analyst\n",
    "* Data Engineer\n",
    "* Data Scientist\n",
    "* Business Intelligence Analyst"
   ]
  },
  {
   "cell_type": "code",
   "execution_count": 12,
   "metadata": {},
   "outputs": [
    {
     "data": {
      "text/plain": [
       "array(['Data Analyst', 'Data Analyst (Remote)', 'Data Analyst - Loans',\n",
       "       'Data Analyst/Developer', 'Junior Data Analyst - Mississauga, ON',\n",
       "       'Data Analyst, Operations', 'Senior Data Analyst',\n",
       "       'Data Entry/ JR Analyst -6 Month Contract', 'Quality Data Analyst',\n",
       "       'Data Governance Analyst', 'Quantitative Data Intern',\n",
       "       'Data Entry Analyst (Risk)', 'ANALYSTE BI', 'Sr. Data Analyst',\n",
       "       'IT Data Analyst - SQL, Banking Finance',\n",
       "       'Sr. Market Data Analyst',\n",
       "       'Market Conduct Data Analyst - 4 month Co-Op', 'Data Analysts',\n",
       "       'HR Data Analyst', 'Data Analyst/Oracle', 'Analyste de données',\n",
       "       'Data Analyst – Loans/Capital Markets', 'Data Specialist',\n",
       "       'Data Engineer', 'Data Analyst (contract)',\n",
       "       'Business Intelligence Analyst',\n",
       "       'Data Visualization Developer/Analyst', 'Product Data Analyst',\n",
       "       'Cognitive Data Analyst', 'Data Analyst (Operations)',\n",
       "       'Data Analyst - Marketing',\n",
       "       'Senior Data Analyst, APAC Marketplace',\n",
       "       'Senior Data Analyst - Remote', 'Insights Analyst',\n",
       "       'Data Analyst, Trilogy (Remote) - $60,000/year USD',\n",
       "       'Product Data Analyst - WTFast',\n",
       "       'Senior Data Analyst (Toronto, ON)',\n",
       "       'Senior Data Analyst, Analytics & Insights (Toronto, ON)',\n",
       "       'Data Research Analyst, Trilogy (Remote) - $60,000/year USD',\n",
       "       'Gaming Data Analyst', 'Data Engineer - Remote, Full-Time',\n",
       "       'Data Engineer/Big Data Engineer',\n",
       "       'Data Engineer, Totogi (Remote) - $60,000/year USD',\n",
       "       'Technical Support Analyst',\n",
       "       'Data Analyst with Guidewire Experience (Remote | US | Canada)',\n",
       "       'Business Systems Analyst', 'Online Data Analyst',\n",
       "       'BI Reporting Analyst', 'Senior BI Analyst',\n",
       "       'Senior Analytics Engineer (Remote)',\n",
       "       'Senior Data and Reporting Analyst',\n",
       "       'Data Analyst / Consultant (Fire / EMS)',\n",
       "       'Cybersecurity Data Analyst',\n",
       "       'Future Opportunities: Data Analyst & Report Specialist (Remote)',\n",
       "       'Data Science Analyst (Remote)',\n",
       "       'Senior Data Analyst (Vancouver, BC)', 'Data Engineer (Remote)',\n",
       "       'Data Analyst/Forecasting Specialist', 'Data Engineer II',\n",
       "       'BI/Analytics Consultant',\n",
       "       'Job Opportunity: Data Stage Developer || Remote',\n",
       "       'Data Engineer [Remote]',\n",
       "       'Google Cloud Platform Analytics Engineer', 'Cloud Data Analyst',\n",
       "       'Google Analytics Engineer', 'Data Engineer - Data, AWS ,ETL',\n",
       "       'Principal Data Analyst', 'Data Analyst (C117)',\n",
       "       'Business Data Analyst', 'Data Analyst (12 Month Contract)',\n",
       "       'Data Analyst (Hybrid)', 'Data Analyst (Python/SQL)',\n",
       "       'Data Analyst - Reporting', 'Data Analyst (Contract)',\n",
       "       'Data Analyst, Flight Pricing Optimization',\n",
       "       'Sector Data Analyst, Data Driven Investing',\n",
       "       'Data Administrator/Data Analyst', 'Commercial Data Analyst',\n",
       "       'Data Engineer 1', 'Senior Data Analyst (PowerBI)',\n",
       "       'Analyst, Data Science- EN', 'Data Science Analyst',\n",
       "       'Analyst, Data Operations', 'Information Analyst',\n",
       "       'Graduate Geospatial Analyst (Available 2023)', 'Data Analytics',\n",
       "       'Data Analyst 2', 'Researcher', 'Information Governance Analyst',\n",
       "       'Digital Analyst', 'PowerBI Specialist',\n",
       "       'Operational Data Analyst', 'Campaign/Data Analyst',\n",
       "       'BUSINESS INTELLIGENCE ANALYST', 'Analyst, Data Science- FR',\n",
       "       'Business Intelligence Analyst (FP&A)', 'Data Analyst - Land',\n",
       "       'Senior Data Governance Analyst', 'Data Engineer (Azure)',\n",
       "       'Data Engineer with AI &ML Analytics Platforms',\n",
       "       'Senior Analyst, Cyber Governance (Data Analytics)',\n",
       "       'Marketing Data Analyst', 'Business Data Analyst, Finance',\n",
       "       'SEO Data Analyst'], dtype=object)"
      ]
     },
     "execution_count": 12,
     "metadata": {},
     "output_type": "execute_result"
    }
   ],
   "source": [
    "#See the unique values of the job positons. Later, will be grouped manually\n",
    "df['title'].unique()"
   ]
  },
  {
   "cell_type": "code",
   "execution_count": 13,
   "metadata": {},
   "outputs": [],
   "source": [
    "#Grouping with replace() to 'Data Analyst'\n",
    "\n",
    "df['title'].replace([\n",
    "    'Data Analyst (Remote)',\n",
    "    'Data Analyst – Loans/Capital Markets',\n",
    "    'Data Analyst - Loans',\n",
    "    'Data Analyst/Developer', \n",
    "    'Junior Data Analyst - Mississauga, ON',\n",
    "    'Data Analyst, Operations', \n",
    "    'Senior Data Analyst',\n",
    "    'Data Entry/ JR Analyst -6 Month Contract', \n",
    "    'Quality Data Analyst',\n",
    "    'Data Governance Analyst', \n",
    "    'Quantitative Data Intern',\n",
    "    'Data Entry Analyst (Risk)',\n",
    "    'Sr. Data Analyst',\n",
    "    'IT Data Analyst - SQL, Banking Finance',\n",
    "    'Sr. Market Data Analyst',\n",
    "    'Market Conduct Data Analyst - 4 month Co-Op', \n",
    "    'Data Analysts',\n",
    "    'HR Data Analyst', \n",
    "    'Data Analyst/Oracle', \n",
    "    'Analyste de données',\n",
    "    'Data Analyst - Loans/Capital Markets',\n",
    "    'Data Analyst (contract)',\n",
    "    'Data Visualization Developer/Analyst', 'Product Data Analyst',\n",
    "    'Cognitive Data Analyst', 'Data Analyst (Operations)',\n",
    "    'Data Analyst - Marketing',\n",
    "    'Senior Data Analyst, APAC Marketplace',\n",
    "    'Senior Data Analyst - Remote', 'Insights Analyst',\n",
    "    'Data Analyst, Trilogy (Remote) - $60,000/year USD',\n",
    "    'Product Data Analyst - WTFast',\n",
    "    'Senior Data Analyst (Toronto, ON)',\n",
    "    'Senior Data Analyst, Analytics & Insights (Toronto, ON)',\n",
    "    'Data Research Analyst, Trilogy (Remote) - $60,000/year USD',\n",
    "    'Gaming Data Analyst',\n",
    "    'Data Analyst with Guidewire Experience (Remote | US | Canada)',\n",
    "    'Online Data Analyst',\n",
    "    'Senior Data and Reporting Analyst',\n",
    "    'Data Analyst / Consultant (Fire / EMS)',\n",
    "    'Cybersecurity Data Analyst',\n",
    "    'Future Opportunities: Data Analyst & Report Specialist (Remote)',\n",
    "    'Senior Data Analyst (Vancouver, BC)',\n",
    "    'Data Analyst/Forecasting Specialist',\n",
    "    'Cloud Data Analyst',\n",
    "    'Principal Data Analyst', \n",
    "    'Data Analyst (C117)',\n",
    "    'Business Data Analyst', \n",
    "    'Data Analyst (12 Month Contract)',\n",
    "    'Data Analyst (Hybrid)', \n",
    "    'Data Analyst (Python/SQL)',\n",
    "    'Data Analyst - Reporting', \n",
    "    'Data Analyst (Contract)',\n",
    "    'Data Analyst, Flight Pricing Optimization',\n",
    "    'Sector Data Analyst, Data Driven Investing',\n",
    "    'Data Administrator/Data Analyst', \n",
    "    'Commercial Data Analyst',\n",
    "    'Senior Data Analyst (PowerBI)',\n",
    "    'Analyst, Data Operations',\n",
    "    'Graduate Geospatial Analyst (Available 2023)', \n",
    "    'Data Analytics',\n",
    "    'Data Analyst 2', 'Researcher', \n",
    "    'Information Governance Analyst',\n",
    "    'Digital Analyst',\n",
    "    'Operational Data Analyst', \n",
    "    'Campaign/Data Analyst',\n",
    "    'Data Analyst - Land',\n",
    "    'Senior Data Governance Analyst',\n",
    "    'Senior Analyst, Cyber Governance (Data Analytics)',\n",
    "    'Marketing Data Analyst', \n",
    "    'Business Data Analyst, Finance',\n",
    "    'SEO Data Analyst',\n",
    "    'Data Specialist',\n",
    "    'Technical Support Analyst'],\n",
    "                    \n",
    "    'Data Analyst', inplace=True)"
   ]
  },
  {
   "cell_type": "code",
   "execution_count": 14,
   "metadata": {},
   "outputs": [],
   "source": [
    "#Grouping with replace() to 'Business Intelligence' (BI Analyst)\n",
    "\n",
    "\n",
    "df['title'].replace([\n",
    "    'ANALYSTE BI',\n",
    "    'Business Intelligence Analyst',\n",
    "    'Business Systems Analyst', \n",
    "    'BI Reporting Analyst',\n",
    "    'Senior BI Analyst',\n",
    "    'BI/Analytics Consultant',\n",
    "    'PowerBI Specialist', \n",
    "    'BUSINESS INTELLIGENCE ANALYST',\n",
    "    'Business Intelligence Analyst (FP&A)'],\n",
    "                    \n",
    "    'Business Intelligence', inplace=True)"
   ]
  },
  {
   "cell_type": "code",
   "execution_count": 15,
   "metadata": {},
   "outputs": [],
   "source": [
    "#Grouping with replace() to 'Data Engineer'\n",
    "\n",
    "df['title'].replace([\n",
    "    'Data Engineer',\n",
    "    'Data Engineer - Remote, Full-Time',\n",
    "    'Data Engineer/Big Data Engineer',\n",
    "    'Data Engineer, Totogi (Remote) - $60,000/year USD',\n",
    "    'Senior Analytics Engineer (Remote)',\n",
    "    'Data Engineer (Remote)',\n",
    "    'Data Engineer II',\n",
    "    'Job Opportunity: Data Stage Developer || Remote',\n",
    "    'Data Engineer [Remote]',\n",
    "    'Google Cloud Platform Analytics Engineer',\n",
    "    'Google Analytics Engineer', \n",
    "    'Data Engineer - Data, AWS ,ETL',\n",
    "    'Data Engineer 1',\n",
    "    'Data Engineer (Azure)',\n",
    "    'Data Engineer with AI &ML Analytics Platforms'],\n",
    "                    \n",
    "    'Data Engineer', inplace=True)"
   ]
  },
  {
   "cell_type": "code",
   "execution_count": 16,
   "metadata": {},
   "outputs": [],
   "source": [
    "#Grouping with replace() to 'Data Scientist'\n",
    "\n",
    "df['title'].replace([\n",
    "    'Data Science Analyst (Remote)', \n",
    "    'Analyst, Data Science- EN',\n",
    "    'Data Science Analyst', \n",
    "    'Information Analyst',\n",
    "    'Analyst, Data Science- FR'],\n",
    "                    \n",
    "    'Data Scientist', inplace=True)"
   ]
  },
  {
   "cell_type": "code",
   "execution_count": 17,
   "metadata": {},
   "outputs": [
    {
     "name": "stdout",
     "output_type": "stream",
     "text": [
      "['Data Analyst' 'Business Intelligence' 'Data Engineer' 'Data Scientist']\n"
     ]
    }
   ],
   "source": [
    "#This is how it would look\n",
    "print(df['title'].unique())"
   ]
  },
  {
   "cell_type": "code",
   "execution_count": 18,
   "metadata": {},
   "outputs": [
    {
     "data": {
      "text/html": [
       "<div>\n",
       "<style scoped>\n",
       "    .dataframe tbody tr th:only-of-type {\n",
       "        vertical-align: middle;\n",
       "    }\n",
       "\n",
       "    .dataframe tbody tr th {\n",
       "        vertical-align: top;\n",
       "    }\n",
       "\n",
       "    .dataframe thead th {\n",
       "        text-align: right;\n",
       "    }\n",
       "</style>\n",
       "<table border=\"1\" class=\"dataframe\">\n",
       "  <thead>\n",
       "    <tr style=\"text-align: right;\">\n",
       "      <th></th>\n",
       "      <th>title</th>\n",
       "      <th>company</th>\n",
       "      <th>onsite_remote</th>\n",
       "      <th>salary</th>\n",
       "      <th>location</th>\n",
       "      <th>posted_date</th>\n",
       "    </tr>\n",
       "  </thead>\n",
       "  <tbody>\n",
       "    <tr>\n",
       "      <th>0</th>\n",
       "      <td>Data Analyst</td>\n",
       "      <td>Axonify</td>\n",
       "      <td>onsite</td>\n",
       "      <td>132970</td>\n",
       "      <td>Waterloo, Ontario, Canada</td>\n",
       "      <td>2022-10-24</td>\n",
       "    </tr>\n",
       "    <tr>\n",
       "      <th>1</th>\n",
       "      <td>Data Analyst</td>\n",
       "      <td>B3 Systems</td>\n",
       "      <td>onsite</td>\n",
       "      <td>133608</td>\n",
       "      <td>Toronto, Ontario, Canada</td>\n",
       "      <td>2022-11-18</td>\n",
       "    </tr>\n",
       "    <tr>\n",
       "      <th>2</th>\n",
       "      <td>Data Analyst</td>\n",
       "      <td>Wood Mackenzie</td>\n",
       "      <td>onsite</td>\n",
       "      <td>87199</td>\n",
       "      <td>Calgary, Alberta, Canada</td>\n",
       "      <td>2022-11-18</td>\n",
       "    </tr>\n",
       "    <tr>\n",
       "      <th>3</th>\n",
       "      <td>Data Analyst</td>\n",
       "      <td>LOFT Community Services</td>\n",
       "      <td>onsite</td>\n",
       "      <td>125143</td>\n",
       "      <td>Toronto, Ontario, Canada</td>\n",
       "      <td>2022-11-17</td>\n",
       "    </tr>\n",
       "    <tr>\n",
       "      <th>4</th>\n",
       "      <td>Data Analyst</td>\n",
       "      <td>NAM Info Inc</td>\n",
       "      <td>onsite</td>\n",
       "      <td>120303</td>\n",
       "      <td>Toronto, Ontario, Canada</td>\n",
       "      <td>2022-11-08</td>\n",
       "    </tr>\n",
       "  </tbody>\n",
       "</table>\n",
       "</div>"
      ],
      "text/plain": [
       "          title                  company onsite_remote  salary  \\\n",
       "0  Data Analyst                  Axonify        onsite  132970   \n",
       "1  Data Analyst               B3 Systems        onsite  133608   \n",
       "2  Data Analyst           Wood Mackenzie        onsite   87199   \n",
       "3  Data Analyst  LOFT Community Services        onsite  125143   \n",
       "4  Data Analyst             NAM Info Inc        onsite  120303   \n",
       "\n",
       "                    location posted_date  \n",
       "0  Waterloo, Ontario, Canada  2022-10-24  \n",
       "1   Toronto, Ontario, Canada  2022-11-18  \n",
       "2   Calgary, Alberta, Canada  2022-11-18  \n",
       "3   Toronto, Ontario, Canada  2022-11-17  \n",
       "4   Toronto, Ontario, Canada  2022-11-08  "
      ]
     },
     "execution_count": 18,
     "metadata": {},
     "output_type": "execute_result"
    }
   ],
   "source": [
    "df.head()"
   ]
  },
  {
   "cell_type": "markdown",
   "metadata": {},
   "source": [
    "## Grouping each location by Canada provinces\n",
    "These will be grouped in\n",
    "* Ontario\n",
    "* Alberta\n",
    "* Quebec\n",
    "* British Columbia\n",
    "* New Brunswick\n",
    "* Manitoba"
   ]
  },
  {
   "cell_type": "code",
   "execution_count": 19,
   "metadata": {},
   "outputs": [
    {
     "data": {
      "text/plain": [
       "array(['Waterloo, Ontario, Canada', 'Toronto, Ontario, Canada',\n",
       "       'Calgary, Alberta, Canada', 'Mississauga, Ontario, Canada',\n",
       "       'St Thomas, Ontario, Canada', 'Montreal, Quebec, Canada',\n",
       "       'Guelph, Ontario, Canada', 'Ontario, Canada',\n",
       "       'Surrey, British Columbia, Canada',\n",
       "       'Vancouver, British Columbia, Canada', 'Markham, Ontario, Canada',\n",
       "       'Penetanguishene, Ontario, Canada', 'Ancaster, Ontario, Canada',\n",
       "       'Ottawa, Ontario, Canada', 'Richmond Hill, Ontario, Canada',\n",
       "       'London, Ontario, Canada', 'Vaughan, Ontario, Canada',\n",
       "       'Dieppe, New Brunswick, Canada',\n",
       "       'Greater Montreal Metropolitan Area',\n",
       "       'New Westminster, British Columbia, Canada', 'Canada',\n",
       "       'Cambridge, Ontario, Canada', 'Kelowna, British Columbia, Canada',\n",
       "       'Greater Vancouver, British Columbia, Canada',\n",
       "       'Greater Montreal, Quebec, Canada',\n",
       "       'Kamloops, British Columbia, Canada', 'Field, Ontario, Canada',\n",
       "       'Montréal-Est, Quebec, Canada', 'Edmonton, Alberta, Canada',\n",
       "       'Alberta, Canada', 'Greater Toronto Area, Canada',\n",
       "       'Oakville, Ontario, Canada', 'Victoria, British Columbia, Canada',\n",
       "       'New Brunswick, Canada', 'North York, Ontario, Canada',\n",
       "       'Winnipeg, Manitoba, Canada'], dtype=object)"
      ]
     },
     "execution_count": 19,
     "metadata": {},
     "output_type": "execute_result"
    }
   ],
   "source": [
    "#Do the same with location, grouping each one in provinces\n",
    "df['location'].unique()"
   ]
  },
  {
   "cell_type": "code",
   "execution_count": 20,
   "metadata": {},
   "outputs": [],
   "source": [
    "#Grouping all of the locations in Ontario per 'Ontario'\n",
    "\n",
    "df['location'].replace([\n",
    "    'Waterloo, Ontario, Canada', \n",
    "    'Toronto, Ontario, Canada',\n",
    "    'Mississauga, Ontario, Canada',\n",
    "    'St Thomas, Ontario, Canada',\n",
    "    'Guelph, Ontario, Canada', \n",
    "    'Ontario, Canada',\n",
    "    'Markham, Ontario, Canada',\n",
    "    'Penetanguishene, Ontario', \n",
    "    'Canada', 'Ancaster, Ontario, Canada',\n",
    "    'Ottawa, Ontario, Canada', \n",
    "    'Richmond Hill, Ontario, Canada',\n",
    "    'London, Ontario, Canada', \n",
    "    'Vaughan, Ontario, Canada',\n",
    "    'Cambridge, Ontario, Canada',\n",
    "    'Oakville, Ontario, Canada',\n",
    "    'North York, Ontario, Canada',\n",
    "    'Penetanguishene, Ontario, Canada',\n",
    "    'Field, Ontario, Canada',\n",
    "    'Greater Toronto Area, Canada',\n",
    "    ],\n",
    "    \n",
    "    'Ontario', inplace=True)"
   ]
  },
  {
   "cell_type": "code",
   "execution_count": 21,
   "metadata": {},
   "outputs": [],
   "source": [
    "#Grouping all of the locations in Alberta per 'Alberta'\n",
    "\n",
    "\n",
    "df['location'].replace([\n",
    "    'Calgary, Alberta, Canada',\n",
    "    'Alberta, Canada',\n",
    "    'Edmonton, Alberta, Canada'\n",
    "    ],\n",
    "                       \n",
    "    'Alberta', inplace=True)"
   ]
  },
  {
   "cell_type": "code",
   "execution_count": 22,
   "metadata": {},
   "outputs": [],
   "source": [
    "#Grouping all of the locations in British Columbia per 'British Columbia'\n",
    "\n",
    "\n",
    "df['location'].replace([\n",
    "    'Surrey, British Columbia, Canada',\n",
    "    'Vancouver, British Columbia, Canada',\n",
    "    'New Westminster, British Columbia, Canada',\n",
    "    'Kelowna, British Columbia, Canada',\n",
    "    'Greater Vancouver, British Columbia, Canada',\n",
    "    'Kamloops, British Columbia, Canada',\n",
    "    'Victoria, British Columbia, Canada',\n",
    "    ],\n",
    "                       \n",
    "    'British Columbia', inplace=True)"
   ]
  },
  {
   "cell_type": "code",
   "execution_count": 23,
   "metadata": {},
   "outputs": [],
   "source": [
    "#Grouping all of the locations in Quebec per 'Quebec'\n",
    "\n",
    "\n",
    "df['location'].replace([\n",
    "    'Montreal, Quebec, Canada',\n",
    "    'Greater Montreal Metropolitan Area',\n",
    "    'Greater Montreal, Quebec, Canada',\n",
    "    'Montréal-Est, Quebec, Canada',\n",
    "    ],\n",
    "\n",
    "'Quebec', inplace=True)"
   ]
  },
  {
   "cell_type": "code",
   "execution_count": 24,
   "metadata": {},
   "outputs": [],
   "source": [
    "#Grouping all of the locations in Manitoba per 'Manitoba'\n",
    "\n",
    "df['location'].replace([\n",
    "    'New Brunswick, Canada',\n",
    "    'Winnipeg, Manitoba, Canada'\n",
    "    ],\n",
    "    \n",
    "    'Manitoba', inplace=True)"
   ]
  },
  {
   "cell_type": "code",
   "execution_count": 25,
   "metadata": {},
   "outputs": [],
   "source": [
    "#Changing the name from 'Dieppe, New Brunswick, Canada' to 'New Brunswick' for simple orderliness\n",
    "\n",
    "df['location'].replace('Dieppe, New Brunswick, Canada', 'New Brunswick', inplace=True)"
   ]
  },
  {
   "cell_type": "code",
   "execution_count": 26,
   "metadata": {},
   "outputs": [
    {
     "name": "stdout",
     "output_type": "stream",
     "text": [
      "['Ontario' 'Alberta' 'Quebec' 'British Columbia' 'New Brunswick'\n",
      " 'Manitoba']\n"
     ]
    }
   ],
   "source": [
    "#This is how it would look\n",
    "print(df['location'].unique())"
   ]
  },
  {
   "cell_type": "code",
   "execution_count": 27,
   "metadata": {},
   "outputs": [
    {
     "data": {
      "text/html": [
       "<div>\n",
       "<style scoped>\n",
       "    .dataframe tbody tr th:only-of-type {\n",
       "        vertical-align: middle;\n",
       "    }\n",
       "\n",
       "    .dataframe tbody tr th {\n",
       "        vertical-align: top;\n",
       "    }\n",
       "\n",
       "    .dataframe thead th {\n",
       "        text-align: right;\n",
       "    }\n",
       "</style>\n",
       "<table border=\"1\" class=\"dataframe\">\n",
       "  <thead>\n",
       "    <tr style=\"text-align: right;\">\n",
       "      <th></th>\n",
       "      <th>title</th>\n",
       "      <th>company</th>\n",
       "      <th>onsite_remote</th>\n",
       "      <th>salary</th>\n",
       "      <th>location</th>\n",
       "      <th>posted_date</th>\n",
       "    </tr>\n",
       "  </thead>\n",
       "  <tbody>\n",
       "    <tr>\n",
       "      <th>0</th>\n",
       "      <td>Data Analyst</td>\n",
       "      <td>Axonify</td>\n",
       "      <td>onsite</td>\n",
       "      <td>132970</td>\n",
       "      <td>Ontario</td>\n",
       "      <td>2022-10-24</td>\n",
       "    </tr>\n",
       "    <tr>\n",
       "      <th>1</th>\n",
       "      <td>Data Analyst</td>\n",
       "      <td>B3 Systems</td>\n",
       "      <td>onsite</td>\n",
       "      <td>133608</td>\n",
       "      <td>Ontario</td>\n",
       "      <td>2022-11-18</td>\n",
       "    </tr>\n",
       "    <tr>\n",
       "      <th>2</th>\n",
       "      <td>Data Analyst</td>\n",
       "      <td>Wood Mackenzie</td>\n",
       "      <td>onsite</td>\n",
       "      <td>87199</td>\n",
       "      <td>Alberta</td>\n",
       "      <td>2022-11-18</td>\n",
       "    </tr>\n",
       "    <tr>\n",
       "      <th>3</th>\n",
       "      <td>Data Analyst</td>\n",
       "      <td>LOFT Community Services</td>\n",
       "      <td>onsite</td>\n",
       "      <td>125143</td>\n",
       "      <td>Ontario</td>\n",
       "      <td>2022-11-17</td>\n",
       "    </tr>\n",
       "    <tr>\n",
       "      <th>4</th>\n",
       "      <td>Data Analyst</td>\n",
       "      <td>NAM Info Inc</td>\n",
       "      <td>onsite</td>\n",
       "      <td>120303</td>\n",
       "      <td>Ontario</td>\n",
       "      <td>2022-11-08</td>\n",
       "    </tr>\n",
       "  </tbody>\n",
       "</table>\n",
       "</div>"
      ],
      "text/plain": [
       "          title                  company onsite_remote  salary location  \\\n",
       "0  Data Analyst                  Axonify        onsite  132970  Ontario   \n",
       "1  Data Analyst               B3 Systems        onsite  133608  Ontario   \n",
       "2  Data Analyst           Wood Mackenzie        onsite   87199  Alberta   \n",
       "3  Data Analyst  LOFT Community Services        onsite  125143  Ontario   \n",
       "4  Data Analyst             NAM Info Inc        onsite  120303  Ontario   \n",
       "\n",
       "  posted_date  \n",
       "0  2022-10-24  \n",
       "1  2022-11-18  \n",
       "2  2022-11-18  \n",
       "3  2022-11-17  \n",
       "4  2022-11-08  "
      ]
     },
     "execution_count": 27,
     "metadata": {},
     "output_type": "execute_result"
    }
   ],
   "source": [
    "df.head()"
   ]
  },
  {
   "cell_type": "code",
   "execution_count": 28,
   "metadata": {},
   "outputs": [
    {
     "name": "stdout",
     "output_type": "stream",
     "text": [
      "['Data Analyst' 'Business Intelligence' 'Data Engineer' 'Data Scientist']\n",
      "\n",
      "['Ontario' 'Alberta' 'Quebec' 'British Columbia' 'New Brunswick'\n",
      " 'Manitoba']\n"
     ]
    }
   ],
   "source": [
    "#Show the cleaned columns\n",
    "print(df['title'].unique())\n",
    "print(f\"\\n{df['location'].unique()}\")"
   ]
  },
  {
   "cell_type": "code",
   "execution_count": 29,
   "metadata": {},
   "outputs": [
    {
     "name": "stdout",
     "output_type": "stream",
     "text": [
      "\n",
      "title\n",
      "False    2773\n",
      "Name: count, dtype: int64\n",
      "\n",
      "company\n",
      "False    2773\n",
      "Name: count, dtype: int64\n",
      "\n",
      "onsite_remote\n",
      "False    2773\n",
      "Name: count, dtype: int64\n",
      "\n",
      "salary\n",
      "False    2773\n",
      "Name: count, dtype: int64\n",
      "\n",
      "location\n",
      "False    2773\n",
      "Name: count, dtype: int64\n",
      "\n",
      "posted_date\n",
      "False    2773\n",
      "Name: count, dtype: int64\n",
      "\n",
      "\n",
      "The size of the Dataframe is: (2773, 6). No nulls registered\n"
     ]
    }
   ],
   "source": [
    "#This verifies the nulls in each column, its 'False' in 2773 rows, that means, the size of the dataframe. There are no null values\n",
    "\n",
    "title_nulls = df['title'].isnull()\n",
    "company_nulls = df['company'].isnull()\n",
    "job_type_nulls = df['onsite_remote'].isnull()\n",
    "salary_nulls = df['salary'].isnull()\n",
    "location_nulls = df['location'].isnull()\n",
    "posted_date_nulls = df['posted_date'].isnull()\n",
    "\n",
    "#Store all column variables in a variable\n",
    "columns_list = [title_nulls, company_nulls, job_type_nulls, salary_nulls, location_nulls, posted_date_nulls]\n",
    "\n",
    "#Print the value counts of each column\n",
    "for column in columns_list:\n",
    "    print(f\"\\n{column.value_counts()}\")\n",
    "\n",
    "print(f\"\\n\\nThe size of the Dataframe is: {df.shape}. No nulls registered\")"
   ]
  },
  {
   "cell_type": "code",
   "execution_count": 30,
   "metadata": {},
   "outputs": [
    {
     "data": {
      "image/png": "[encoded data removed]",
      "text/plain": [
       "<Figure size 1000x400 with 1 Axes>"
      ]
     },
     "metadata": {},
     "output_type": "display_data"
    }
   ],
   "source": [
    "#This groups for job position and calculates the mean salary of each job positon/profession\n",
    "salaries_profession = df.groupby('title')['salary'].mean().sort_values()\n",
    "\n",
    "plt.figure(figsize=(10, 4))\n",
    "\n",
    "plt.barh(salaries_profession.index, salaries_profession.values, color='green')\n",
    "plt.xlabel('Mean Salary')\n",
    "plt.ylabel('Profession')\n",
    "plt.title('Mean salary by profession')\n",
    "ticks = plt.xticks()\n",
    "plt.grid(axis='x')\n",
    "\n",
    "plt.show()"
   ]
  },
  {
   "cell_type": "code",
   "execution_count": 31,
   "metadata": {},
   "outputs": [
    {
     "data": {
      "text/plain": [
       "onsite_remote\n",
       "Remote    848\n",
       "Hybrid    950\n",
       "Onsite    975\n",
       "Name: count, dtype: int64"
      ]
     },
     "execution_count": 31,
     "metadata": {},
     "output_type": "execute_result"
    }
   ],
   "source": [
    "#This line of code converts the first letter to uppercase, counts the quantity of values for each job modality, and sorts the values for the next graph\n",
    "\n",
    "job_type = df['onsite_remote'].str.capitalize().value_counts().sort_values()\n",
    "\n",
    "job_type"
   ]
  },
  {
   "cell_type": "code",
   "execution_count": 32,
   "metadata": {},
   "outputs": [
    {
     "data": {
      "image/png": "[encoded data removed]",
      "text/plain": [
       "<Figure size 1000x400 with 1 Axes>"
      ]
     },
     "metadata": {},
     "output_type": "display_data"
    }
   ],
   "source": [
    "#Graph about the Job Type distribution\n",
    "plt.figure(figsize=(10, 4))\n",
    "\n",
    "plt.barh(job_type.index, job_type.values, color='green')\n",
    "plt.xlabel('Quantity')\n",
    "plt.ylabel('Job Type')\n",
    "plt.title('Job type distribution')\n",
    "ticks = plt.xticks()\n",
    "plt.grid(axis='x')\n",
    "\n",
    "plt.show()"
   ]
  },
  {
   "cell_type": "code",
   "execution_count": 33,
   "metadata": {},
   "outputs": [
    {
     "data": {
      "image/png": "[encoded data removed]",
      "text/plain": [
       "<Figure size 1000x400 with 1 Axes>"
      ]
     },
     "metadata": {},
     "output_type": "display_data"
    }
   ],
   "source": [
    "#Groups the mean salary per location, and sorts the values\n",
    "graph = df.groupby('location')['salary'].mean().sort_values()\n",
    "\n",
    "plt.figure(figsize=(10, 4))\n",
    "plt.barh(graph.index, graph.values, color='green')\n",
    "plt.xlabel('Mean Salary')\n",
    "plt.ylabel('Province')\n",
    "plt.title('Mean Salary per province (Canada)')\n",
    "plt.grid(axis='x')\n",
    "ticks = plt.xticks()\n",
    "\n",
    "plt.show()"
   ]
  },
  {
   "cell_type": "code",
   "execution_count": 34,
   "metadata": {},
   "outputs": [
    {
     "data": {
      "image/png": "[encoded data removed]",
      "text/plain": [
       "<Figure size 1000x400 with 1 Axes>"
      ]
     },
     "metadata": {},
     "output_type": "display_data"
    }
   ],
   "source": [
    "#Groups and counts how many professionals of each job positions are in each company, sorts the values in descending order and then limit the amount that will be shown to 10\n",
    "companies = df.groupby('company')['title'].count().sort_values(ascending=False)[:10]\n",
    "\n",
    "plt.figure(figsize=(10, 4))\n",
    "plt.barh(companies.index, companies.values, color='green')\n",
    "plt.xlabel('Quantity')\n",
    "plt.ylabel('Company name')\n",
    "plt.title('Most popular companies per job position')\n",
    "plt.grid(axis='x')\n",
    "\n",
    "plt.show()"
   ]
  },
  {
   "cell_type": "code",
   "execution_count": 35,
   "metadata": {},
   "outputs": [
    {
     "data": {
      "text/plain": [
       "False"
      ]
     },
     "execution_count": 35,
     "metadata": {},
     "output_type": "execute_result"
    }
   ],
   "source": [
    "#Vefify NaN values in the ['posted_date'] column\n",
    "nan_dates = df['posted_date'].isna().any()\n",
    "\n",
    "nan_dates"
   ]
  },
  {
   "cell_type": "code",
   "execution_count": 36,
   "metadata": {},
   "outputs": [
    {
     "name": "stdout",
     "output_type": "stream",
     "text": [
      "['2022-10-24' '2022-11-18' '2022-11-17' '2022-11-08' '2022-11-15'\n",
      " '2022-11-02' '2022-11-09' '2022-10-27' '2022-11-11' '2022-11-16'\n",
      " '2022-11-22' '2022-10-26' '2022-11-10' '2022-11-21' '2022-10-19'\n",
      " '2022-11-13' '2022-11-03' '2022-10-12' '2022-09-21' '2022-10-23'\n",
      " '2022-11-01' '2022-10-07' '2022-11-19' '2022-10-21' '2022-11-04'\n",
      " '2022-10-14' '2022-07-18' '2022-09-29' '2022-09-28' '2022-10-02'\n",
      " '2022-11-20' '2022-11-05' '2022-11-23' '2022-10-25' '2022-09-18'\n",
      " '2022-11-14' '2022-10-31' '2022-10-20' '2022-05-13' '2022-10-17'\n",
      " '2022-10-10' '2022-10-28' '2022-10-16' '2022-11-07' '2022-10-05'\n",
      " '2022-10-13']\n"
     ]
    }
   ],
   "source": [
    "print(df['posted_date'].unique())"
   ]
  },
  {
   "cell_type": "code",
   "execution_count": null,
   "metadata": {},
   "outputs": [],
   "source": []
  }
 ],
 "metadata": {
  "kernelspec": {
   "display_name": "Python 3",
   "language": "python",
   "name": "python3"
  },
  "language_info": {
   "codemirror_mode": {
    "name": "ipython",
    "version": 3
   },
   "file_extension": ".py",
   "mimetype": "text/x-python",
   "name": "python",
   "nbconvert_exporter": "python",
   "pygments_lexer": "ipython3",
   "version": "3.11.6"
  }
 },
 "nbformat": 4,
 "nbformat_minor": 2
}
